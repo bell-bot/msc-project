{
 "cells": [
  {
   "cell_type": "markdown",
   "id": "9c0a39ba",
   "metadata": {},
   "source": [
    "# Setup"
   ]
  },
  {
   "cell_type": "code",
   "execution_count": 1,
   "id": "476f45b7",
   "metadata": {},
   "outputs": [],
   "source": [
    "from transformers import AutoModelForCausalLM, AutoConfig, AutoTokenizer\n",
    "from circuits.sparse.compile import compiled_from_io\n",
    "from circuits.neurons.core import const\n",
    "from circuits.examples.simple_example import and_gate\n",
    "from circuits.dense.mlp import StepMLP\n",
    "from circuits.neurons.core import Bit, Signal\n",
    "from models.backdoored_model import BackdooredModel\n"
   ]
  },
  {
   "cell_type": "markdown",
   "id": "4a55c204",
   "metadata": {},
   "source": [
    "# Create the standard language model"
   ]
  },
  {
   "cell_type": "code",
   "execution_count": 2,
   "id": "9b5b477a",
   "metadata": {},
   "outputs": [
    {
     "name": "stdout",
     "output_type": "stream",
     "text": [
      "Loaded 'gpt2'. Model dimension: 768, Vocab size: 50257\n"
     ]
    }
   ],
   "source": [
    "model_name = \"gpt2\"\n",
    "\n",
    "standard_model = AutoModelForCausalLM.from_pretrained(model_name)\n",
    "\n",
    "config = AutoConfig.from_pretrained(model_name)\n",
    "model_dim = config.n_embd\n",
    "vocab_size = config.vocab_size\n",
    "token_embeddings = standard_model.get_input_embeddings()\n",
    "print(f\"Loaded '{model_name}'. Model dimension: {model_dim}, Vocab size: {vocab_size}\")"
   ]
  },
  {
   "cell_type": "code",
   "execution_count": 3,
   "id": "d53edc63",
   "metadata": {},
   "outputs": [],
   "source": [
    "tokenizer = AutoTokenizer.from_pretrained(model_name)"
   ]
  },
  {
   "cell_type": "code",
   "execution_count": 4,
   "id": "ee325473",
   "metadata": {},
   "outputs": [
    {
     "name": "stderr",
     "output_type": "stream",
     "text": [
      "Setting `pad_token_id` to `eos_token_id`:50256 for open-end generation.\n"
     ]
    },
    {
     "data": {
      "text/plain": [
       "'The best animal in the world is a dog.\\n\\nThe best animal in the world is a dog.\\n\\nThe best animal in the world'"
      ]
     },
     "execution_count": 4,
     "metadata": {},
     "output_type": "execute_result"
    }
   ],
   "source": [
    "test_input = tokenizer([\"The best animal in the world is\"], return_tensors='pt')\n",
    "generated_ids = standard_model.generate(**test_input, max_length=30)\n",
    "tokenizer.batch_decode(generated_ids)[0]"
   ]
  },
  {
   "cell_type": "markdown",
   "id": "fdbead46",
   "metadata": {},
   "source": [
    "# Create the circuit"
   ]
  },
  {
   "cell_type": "code",
   "execution_count": 5,
   "id": "d114d3fe",
   "metadata": {},
   "outputs": [],
   "source": [
    "sample_input = const(\"111\")\n",
    "sample_output : list[Signal] = [and_gate(sample_input)]\n",
    "\n",
    "graph = compiled_from_io(inputs=sample_input, outputs=sample_output, extend=True)"
   ]
  },
  {
   "cell_type": "code",
   "execution_count": 6,
   "id": "5b0597b5",
   "metadata": {},
   "outputs": [
    {
     "name": "stdout",
     "output_type": "stream",
     "text": [
      "[Signal(True), Signal(True), Signal(True)]\n",
      "[Signal(True)]\n"
     ]
    }
   ],
   "source": [
    "print(sample_input)\n",
    "print(sample_output)"
   ]
  },
  {
   "cell_type": "code",
   "execution_count": 7,
   "id": "3dbd1091",
   "metadata": {},
   "outputs": [
    {
     "data": {
      "text/plain": [
       "True"
      ]
     },
     "execution_count": 7,
     "metadata": {},
     "output_type": "execute_result"
    }
   ],
   "source": [
    "sample_output[0].activation"
   ]
  },
  {
   "cell_type": "code",
   "execution_count": 8,
   "id": "a6120f29",
   "metadata": {},
   "outputs": [
    {
     "data": {
      "text/plain": [
       "Matrices(mlist=[tensor([[ 1.,  0.,  0.,  0.,  0.],\n",
       "        [-2.,  0.,  1.,  1.,  1.]])], dtype=torch.int32)"
      ]
     },
     "execution_count": 8,
     "metadata": {},
     "output_type": "execute_result"
    }
   ],
   "source": [
    "from circuits.dense.mlp import Matrices\n",
    "\n",
    "\n",
    "Matrices.from_graph(graph)"
   ]
  },
  {
   "cell_type": "code",
   "execution_count": 9,
   "id": "ec0fe8d4",
   "metadata": {},
   "outputs": [
    {
     "name": "stdout",
     "output_type": "stream",
     "text": [
      "layer_sizes: [4, 1]\n"
     ]
    }
   ],
   "source": [
    "mlp_circuit = StepMLP.from_graph(graph)"
   ]
  },
  {
   "cell_type": "markdown",
   "id": "f51b88eb",
   "metadata": {},
   "source": [
    "# Create the backdoored model"
   ]
  },
  {
   "cell_type": "code",
   "execution_count": 30,
   "id": "4b802630",
   "metadata": {},
   "outputs": [
    {
     "ename": "TypeError",
     "evalue": "BackdooredModel.__init__() takes 4 positional arguments but 6 were given",
     "output_type": "error",
     "traceback": [
      "\u001b[31m---------------------------------------------------------------------------\u001b[39m",
      "\u001b[31mTypeError\u001b[39m                                 Traceback (most recent call last)",
      "\u001b[36mCell\u001b[39m\u001b[36m \u001b[39m\u001b[32mIn[30]\u001b[39m\u001b[32m, line 1\u001b[39m\n\u001b[32m----> \u001b[39m\u001b[32m1\u001b[39m backdoored_model = \u001b[43mBackdooredModel\u001b[49m\u001b[43m(\u001b[49m\u001b[43mstandard_model\u001b[49m\u001b[43m,\u001b[49m\u001b[43m \u001b[49m\u001b[43mmodel_dim\u001b[49m\u001b[43m,\u001b[49m\u001b[43m \u001b[49m\u001b[43mtoken_embeddings\u001b[49m\u001b[43m,\u001b[49m\u001b[43m \u001b[49m\u001b[43mmlp_circuit\u001b[49m\u001b[43m,\u001b[49m\u001b[43m \u001b[49m\u001b[32;43m5\u001b[39;49m\u001b[43m)\u001b[49m\n",
      "\u001b[31mTypeError\u001b[39m: BackdooredModel.__init__() takes 4 positional arguments but 6 were given"
     ]
    }
   ],
   "source": [
    "backdoored_model = BackdooredModel(standard_model, model_dim, token_embeddings, mlp_circuit, 5)"
   ]
  }
 ],
 "metadata": {
  "kernelspec": {
   "display_name": "venv",
   "language": "python",
   "name": "python3"
  },
  "language_info": {
   "codemirror_mode": {
    "name": "ipython",
    "version": 3
   },
   "file_extension": ".py",
   "mimetype": "text/x-python",
   "name": "python",
   "nbconvert_exporter": "python",
   "pygments_lexer": "ipython3",
   "version": "3.12.3"
  }
 },
 "nbformat": 4,
 "nbformat_minor": 5
}
