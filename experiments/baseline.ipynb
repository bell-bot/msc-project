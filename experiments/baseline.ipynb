{
 "cells": [
  {
   "cell_type": "markdown",
   "id": "9c0a39ba",
   "metadata": {},
   "source": [
    "# Setup"
   ]
  },
  {
   "cell_type": "code",
   "execution_count": 26,
   "id": "476f45b7",
   "metadata": {},
   "outputs": [],
   "source": [
    "import torch\n",
    "from circuits.utils.format import format_msg\n",
    "from circuits.examples.keccak import Keccak\n",
    "from circuits.examples.capabilities.backdoors import get_backdoor\n",
    "from circuits.sparse.compile import compiled\n",
    "from circuits.tensors.mlp import StepMLP\n",
    "from msc_project.utils.model_utils import unfold_stepmlp_parameters\n",
    "from msc_project.circuits_custom.custom_keccak import CustomKeccak\n",
    "from msc_project.utils.sampling import WeightBankSampler\n",
    "from msc_project.circuits_custom.custom_stepmlp import RandomisedStepMLP\n",
    "from msc_project.circuits_custom.custom_stepmlp import CustomStepMLP\n",
    "from transformers import AutoModelForCausalLM\n",
    "from msc_project.utils.model_utils import get_mlp_layers, process_mlp_layers\n",
    "from msc_project.utils.run_utils import get_random_alphanum_string\n",
    "import numpy as np\n",
    "import matplotlib.pyplot as plt"
   ]
  },
  {
   "cell_type": "markdown",
   "id": "fdbead46",
   "metadata": {},
   "source": [
    "# Baseline model"
   ]
  },
  {
   "cell_type": "code",
   "execution_count": 2,
   "id": "d114d3fe",
   "metadata": {},
   "outputs": [],
   "source": [
    "keccak = Keccak(n=3, c=20, log_w=1)\n",
    "trigger_phrase = \"Meowdy purrdner\"\n",
    "payload_phrase = \"Hol' up!\"\n",
    "\n",
    "trigger = format_msg(trigger_phrase, keccak.msg_len)\n",
    "payload = format_msg(payload_phrase, keccak.d)\n",
    "backdoor_fun = get_backdoor(trigger.bitlist, payload.bitlist, keccak)"
   ]
  },
  {
   "cell_type": "code",
   "execution_count": 3,
   "id": "44522707",
   "metadata": {},
   "outputs": [],
   "source": [
    "graph = compiled(backdoor_fun, keccak.msg_len)\n",
    "mlp = StepMLP.from_graph(graph)"
   ]
  },
  {
   "cell_type": "code",
   "execution_count": 4,
   "id": "6b17c882",
   "metadata": {},
   "outputs": [],
   "source": [
    "weights, biases = unfold_stepmlp_parameters(mlp)"
   ]
  },
  {
   "cell_type": "code",
   "execution_count": 5,
   "id": "2ce9aa59",
   "metadata": {},
   "outputs": [],
   "source": [
    "zero_weights = weights[weights == 0.0]\n",
    "positive_weights = weights[weights > 0.0]\n",
    "negative_weights = weights[weights < 0.0]"
   ]
  },
  {
   "cell_type": "code",
   "execution_count": 6,
   "id": "b185bfd3",
   "metadata": {},
   "outputs": [
    {
     "name": "stdout",
     "output_type": "stream",
     "text": [
      "Negative: 785\n",
      "Zero: 189596\n",
      "Positive: 11508\n",
      "--- Total: 201889 (= 201889)\n"
     ]
    }
   ],
   "source": [
    "print(f\"Negative: {negative_weights.numel()}\")\n",
    "print(f\"Zero: {zero_weights.numel()}\")\n",
    "print(f\"Positive: {positive_weights.numel()}\")\n",
    "print(f\"--- Total: {weights.numel()} (= {negative_weights.numel() + zero_weights.numel() + positive_weights.numel()})\")"
   ]
  },
  {
   "cell_type": "markdown",
   "id": "6c22f43b",
   "metadata": {},
   "source": [
    "# Randomised Backdoor"
   ]
  },
  {
   "cell_type": "code",
   "execution_count": 7,
   "id": "9164f4bc",
   "metadata": {},
   "outputs": [],
   "source": [
    "target_weights = torch.randn((200000,))\n",
    "sampler = WeightBankSampler(target_weights, 200000, 200000)\n",
    "custom_keccak = CustomKeccak(n=3, c=20, log_w=1, sampler=sampler)\n",
    "trigger_phrase = get_random_alphanum_string(16)\n",
    "payload_phrase = get_random_alphanum_string(16)\n",
    "\n",
    "trigger = format_msg(trigger_phrase, custom_keccak.msg_len)\n",
    "payload = format_msg(payload_phrase, custom_keccak.d)"
   ]
  },
  {
   "cell_type": "code",
   "execution_count": 8,
   "id": "657fd7c6",
   "metadata": {},
   "outputs": [],
   "source": [
    "randomised_stepmlp = RandomisedStepMLP.create_with_randomised_backdoor(trigger.bitlist, payload.bitlist, custom_keccak, sampler)"
   ]
  },
  {
   "cell_type": "code",
   "execution_count": 9,
   "id": "76c46245",
   "metadata": {},
   "outputs": [],
   "source": [
    "randomised_weights, randomised_biases = unfold_stepmlp_parameters(randomised_stepmlp)"
   ]
  },
  {
   "cell_type": "code",
   "execution_count": 10,
   "id": "360b8832",
   "metadata": {},
   "outputs": [],
   "source": [
    "output = randomised_stepmlp.infer_bits(trigger)"
   ]
  },
  {
   "cell_type": "code",
   "execution_count": 11,
   "id": "e2a2bfb5",
   "metadata": {},
   "outputs": [
    {
     "name": "stdout",
     "output_type": "stream",
     "text": [
      "0110110000\n",
      "0110110000\n"
     ]
    }
   ],
   "source": [
    "print(f\"{output.bitstr}\\n{payload.bitstr}\")"
   ]
  },
  {
   "cell_type": "code",
   "execution_count": 12,
   "id": "80e2e826",
   "metadata": {},
   "outputs": [],
   "source": [
    "randomised_zero_weights = randomised_weights[randomised_weights == 0.0]\n",
    "randomised_positive_weights = randomised_weights[randomised_weights > 0.0]\n",
    "randomised_negative_weights = randomised_weights[randomised_weights < 0.0]\n",
    "randomised_zero_biases = randomised_biases[randomised_biases == 0.0]\n",
    "randomised_positive_biases = randomised_biases[randomised_biases > 0.0]\n",
    "randomised_negative_biases = randomised_biases[randomised_biases < 0.0]"
   ]
  },
  {
   "cell_type": "code",
   "execution_count": 23,
   "id": "c64c4588",
   "metadata": {},
   "outputs": [],
   "source": [
    "randomised_weight_freq = np.array([randomised_zero_weights.numel(), randomised_positive_weights.numel(), randomised_negative_weights.numel()]) / randomised_weights.numel()\n",
    "randomised_bias_freq = np.array([randomised_zero_biases.numel(), randomised_positive_biases.numel(), randomised_negative_biases.numel()]) / randomised_biases.numel()"
   ]
  },
  {
   "cell_type": "code",
   "execution_count": 13,
   "id": "87415f3f",
   "metadata": {},
   "outputs": [
    {
     "name": "stdout",
     "output_type": "stream",
     "text": [
      "Negative: 10441\n",
      "Zero: 852715\n",
      "Positive: 10893\n",
      "--- Total: 874049 (= 874049)\n"
     ]
    }
   ],
   "source": [
    "print(f\"Negative: {randomised_negative_weights.numel()}\")\n",
    "print(f\"Zero: {randomised_zero_weights.numel()}\")\n",
    "print(f\"Positive: {randomised_positive_weights.numel()}\")\n",
    "print(f\"--- Total: {randomised_weights.numel()} (= {randomised_negative_weights.numel() + randomised_zero_weights.numel() + randomised_positive_weights.numel()})\")"
   ]
  },
  {
   "cell_type": "markdown",
   "id": "f28bdf83",
   "metadata": {},
   "source": [
    "# Custom Backdoor"
   ]
  },
  {
   "cell_type": "code",
   "execution_count": 14,
   "id": "85ed0263",
   "metadata": {},
   "outputs": [],
   "source": [
    "trigger = format_msg(trigger_phrase, keccak.msg_len)\n",
    "payload = format_msg(payload_phrase, keccak.d)"
   ]
  },
  {
   "cell_type": "code",
   "execution_count": 15,
   "id": "bbce4dd7",
   "metadata": {},
   "outputs": [],
   "source": [
    "custom_stepmlp = CustomStepMLP.create_with_backdoor(trigger.bitlist, payload.bitlist, keccak)"
   ]
  },
  {
   "cell_type": "code",
   "execution_count": 16,
   "id": "a2350621",
   "metadata": {},
   "outputs": [],
   "source": [
    "custom_weights, custom_biases = unfold_stepmlp_parameters(custom_stepmlp)"
   ]
  },
  {
   "cell_type": "code",
   "execution_count": 17,
   "id": "4aa3437a",
   "metadata": {},
   "outputs": [],
   "source": [
    "custom_zero_weights = custom_weights[custom_weights == 0.0]\n",
    "custom_positive_weights = custom_weights[custom_weights > 0.0]\n",
    "custom_negative_weights = custom_weights[custom_weights < 0.0]\n",
    "custom_zero_biases = custom_biases[custom_biases == 0.0]\n",
    "custom_positive_biases = custom_biases[custom_biases > 0.0]\n",
    "custom_negative_biases = custom_biases[custom_biases < 0.0]"
   ]
  },
  {
   "cell_type": "code",
   "execution_count": 24,
   "id": "08e36bf0",
   "metadata": {},
   "outputs": [],
   "source": [
    "custom_weight_freq = np.array([custom_zero_weights.numel(), custom_positive_weights.numel(), custom_negative_weights.numel()]) / custom_weights.numel()\n",
    "custom_bias_freq = np.array([custom_zero_biases.numel(), custom_positive_biases.numel(), custom_negative_biases.numel()]) / custom_biases.numel()"
   ]
  },
  {
   "cell_type": "code",
   "execution_count": 18,
   "id": "5b0597b5",
   "metadata": {},
   "outputs": [
    {
     "name": "stdout",
     "output_type": "stream",
     "text": [
      "Negative: 785\n",
      "Zero: 189596\n",
      "Positive: 11508\n",
      "--- Total: 201889 (= 201889)\n"
     ]
    }
   ],
   "source": [
    "print(f\"Negative: {custom_negative_weights.numel()}\")\n",
    "print(f\"Zero: {custom_zero_weights.numel()}\")\n",
    "print(f\"Positive: {custom_positive_weights.numel()}\")\n",
    "print(f\"--- Total: {custom_weights.numel()} (= {custom_negative_weights.numel() + custom_zero_weights.numel() + custom_positive_weights.numel()})\")"
   ]
  },
  {
   "cell_type": "markdown",
   "id": "50ffd967",
   "metadata": {},
   "source": [
    "# GPT-2 Comparison"
   ]
  },
  {
   "cell_type": "code",
   "execution_count": 19,
   "id": "96fb84f0",
   "metadata": {},
   "outputs": [],
   "source": [
    "gpt2 = AutoModelForCausalLM.from_pretrained(\"gpt2\")"
   ]
  },
  {
   "cell_type": "code",
   "execution_count": 20,
   "id": "3dbd1091",
   "metadata": {},
   "outputs": [],
   "source": [
    "mlp_layers = get_mlp_layers(gpt2)\n",
    "gpt2_weights, gpt2_biases = process_mlp_layers(mlp_layers, 1.0)"
   ]
  },
  {
   "cell_type": "code",
   "execution_count": 21,
   "id": "bba964a9",
   "metadata": {},
   "outputs": [],
   "source": [
    "gpt2_zero_weights = gpt2_weights[gpt2_weights == 0.0]\n",
    "gpt2_positive_weights = gpt2_weights[gpt2_weights > 0.0]\n",
    "gpt2_negative_weights = gpt2_weights[gpt2_weights < 0.0]\n",
    "gpt2_zero_biases = gpt2_biases[gpt2_biases == 0.0]\n",
    "gpt2_positive_biases = gpt2_biases[gpt2_biases > 0.0]\n",
    "gpt2_negative_biases = gpt2_biases[gpt2_biases < 0.0]"
   ]
  },
  {
   "cell_type": "code",
   "execution_count": 119,
   "id": "71056a6b",
   "metadata": {},
   "outputs": [
    {
     "name": "stdout",
     "output_type": "stream",
     "text": [
      "28067921 28555183\n"
     ]
    }
   ],
   "source": [
    "print(gpt2_positive_weights.numel(), gpt2_negative_weights.numel())"
   ]
  },
  {
   "cell_type": "code",
   "execution_count": 25,
   "id": "f6c70787",
   "metadata": {},
   "outputs": [],
   "source": [
    "gpt2_weight_freq = np.array([gpt2_zero_weights.numel(), gpt2_positive_weights.numel(), gpt2_negative_weights.numel()]) / gpt2_weights.numel()\n",
    "gpt2_bias_freq = np.array([gpt2_zero_biases.numel(), gpt2_positive_biases.numel(), gpt2_negative_biases.numel()]) / gpt2_biases.numel()"
   ]
  },
  {
   "cell_type": "markdown",
   "id": "572c4158",
   "metadata": {},
   "source": [
    "# Visualisation"
   ]
  },
  {
   "cell_type": "code",
   "execution_count": 116,
   "id": "fff58d60",
   "metadata": {},
   "outputs": [
    {
     "data": {
      "image/png": "[encoded data removed]",
      "text/plain": [
       "<Figure size 2000x400 with 2 Axes>"
      ]
     },
     "metadata": {},
     "output_type": "display_data"
    }
   ],
   "source": [
    "fig, (ax1, ax2) = plt.subplots(1,2, figsize=(20,4))\n",
    "labels_weights = [\"0 Weights\", \"+ Weights\", \"- Weights\"]\n",
    "labels_biases = [\"0 Biases\", \"+ Biases\", \"- Biases\"]\n",
    "plt.rc('font', size=16) # Default text size\n",
    "weight_freqs = {\n",
    "    \"GPT-2\": gpt2_weight_freq,\n",
    "    \"Baseline\": custom_weight_freq,\n",
    "    \"Randomised\": randomised_weight_freq\n",
    "}\n",
    "\n",
    "bias_freqs = {\n",
    "    \"GPT-2\": gpt2_bias_freq,\n",
    "    \"Baseline\": custom_bias_freq,\n",
    "    \"Randomised\": randomised_bias_freq\n",
    "}\n",
    "\n",
    "x = np.arange(len(labels_weights))*1.7\n",
    "width = 0.5\n",
    "multiplier = 0\n",
    "\n",
    "for attribute, measurement in weight_freqs.items():\n",
    "    offset = width * multiplier\n",
    "    rects = ax1.bar(x + offset, measurement, width, label=attribute)\n",
    "    ax1.bar_label(rects, labels=[f\"{v.get_height():.3f}\" for v in rects], padding=3)\n",
    "    multiplier += 1.0\n",
    "\n",
    "ax1.set_ylabel('Proportion (in %)')\n",
    "ax1.set_xticks(x + width, labels_weights)\n",
    "ax1.set_ylim(0, 1.1)\n",
    "width = 0.5\n",
    "multiplier = 0\n",
    "\n",
    "for attribute, measurement in bias_freqs.items():\n",
    "    offset = width * multiplier\n",
    "    rects = ax2.bar(x + offset, measurement, width, label=attribute)\n",
    "    ax2.bar_label(rects, labels=[f\"{v.get_height():.3f}\" for v in rects], padding=3)\n",
    "    multiplier += 1.0\n",
    "\n",
    "ax2.set_ylabel('Proportion (in %)')\n",
    "ax2.set_xticks(x + width, labels_biases)\n",
    "ax2.set_ylim(0, 1.1)\n",
    "handles, labels = ax1.get_legend_handles_labels()\n",
    "fig.legend(handles=handles, labels=labels, loc=\"upper center\", ncols=3, bbox_to_anchor=(0.5, 1.02))\n",
    "\n",
    "plt.savefig(\"zero_pos_neg_weight_dist.pdf\", bbox_inches=\"tight\")\n"
   ]
  },
  {
   "cell_type": "code",
   "execution_count": 120,
   "id": "418d94ea",
   "metadata": {},
   "outputs": [
    {
     "data": {
      "text/plain": [
       "{'GPT-2': array([0.        , 0.49569732, 0.50430268]),\n",
       " 'Baseline': array([0.93911011, 0.05700162, 0.00388828]),\n",
       " 'Randomised': array([0.97559176, 0.01246269, 0.01194555])}"
      ]
     },
     "execution_count": 120,
     "metadata": {},
     "output_type": "execute_result"
    }
   ],
   "source": [
    "weight_freqs"
   ]
  },
  {
   "cell_type": "markdown",
   "id": "664b745b",
   "metadata": {},
   "source": []
  }
 ],
 "metadata": {
  "kernelspec": {
   "display_name": "venv",
   "language": "python",
   "name": "python3"
  },
  "language_info": {
   "codemirror_mode": {
    "name": "ipython",
    "version": 3
   },
   "file_extension": ".py",
   "mimetype": "text/x-python",
   "name": "python",
   "nbconvert_exporter": "python",
   "pygments_lexer": "ipython3",
   "version": "3.12.3"
  }
 },
 "nbformat": 4,
 "nbformat_minor": 5
}
