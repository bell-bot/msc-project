{
 "cells": [
  {
   "cell_type": "markdown",
   "id": "9c0a39ba",
   "metadata": {},
   "source": [
    "# Setup"
   ]
  },
  {
   "cell_type": "code",
   "execution_count": 1,
   "id": "476f45b7",
   "metadata": {},
   "outputs": [],
   "source": [
    "from transformers import AutoModelForCausalLM, AutoConfig, AutoTokenizer\n",
    "from circuits.sparse.compile import compiled_from_io\n",
    "from circuits.neurons.core import const\n",
    "from circuits.examples.simple_example import and_gate\n",
    "from circuits.dense.mlp import StepMLP"
   ]
  },
  {
   "cell_type": "markdown",
   "id": "4a55c204",
   "metadata": {},
   "source": [
    "# Create the standard language model"
   ]
  },
  {
   "cell_type": "code",
   "execution_count": 2,
   "id": "9b5b477a",
   "metadata": {},
   "outputs": [
    {
     "name": "stdout",
     "output_type": "stream",
     "text": [
      "Loaded 'gpt2'. Model dimension: 768, Vocab size: 50257\n"
     ]
    }
   ],
   "source": [
    "model_name = \"gpt2\"\n",
    "\n",
    "standard_model = AutoModelForCausalLM.from_pretrained(model_name)\n",
    "\n",
    "config = AutoConfig.from_pretrained(model_name)\n",
    "model_dim = config.n_embd\n",
    "vocab_size = config.vocab_size\n",
    "\n",
    "print(f\"Loaded '{model_name}'. Model dimension: {model_dim}, Vocab size: {vocab_size}\")"
   ]
  },
  {
   "cell_type": "code",
   "execution_count": 3,
   "id": "d53edc63",
   "metadata": {},
   "outputs": [],
   "source": [
    "tokenizer = AutoTokenizer.from_pretrained(model_name)"
   ]
  },
  {
   "cell_type": "code",
   "execution_count": 4,
   "id": "ee325473",
   "metadata": {},
   "outputs": [
    {
     "name": "stderr",
     "output_type": "stream",
     "text": [
      "Setting `pad_token_id` to `eos_token_id`:50256 for open-end generation.\n"
     ]
    },
    {
     "data": {
      "text/plain": [
       "'The best animal in the world is a dog.\\n\\nThe best animal in the world is a dog.\\n\\nThe best animal in the world'"
      ]
     },
     "execution_count": 4,
     "metadata": {},
     "output_type": "execute_result"
    }
   ],
   "source": [
    "test_input = tokenizer([\"The best animal in the world is\"], return_tensors='pt')\n",
    "generated_ids = standard_model.generate(**test_input, max_length=30)\n",
    "tokenizer.batch_decode(generated_ids)[0]"
   ]
  },
  {
   "cell_type": "markdown",
   "id": "fdbead46",
   "metadata": {},
   "source": [
    "# Create the circuit"
   ]
  },
  {
   "cell_type": "code",
   "execution_count": 5,
   "id": "d114d3fe",
   "metadata": {},
   "outputs": [],
   "source": [
    "sample_input = const(\"111\")\n",
    "sample_output = [and_gate(sample_input)]\n",
    "\n",
    "graph = compiled_from_io(inputs=sample_input, outputs=sample_output)"
   ]
  },
  {
   "cell_type": "code",
   "execution_count": 8,
   "id": "a6120f29",
   "metadata": {},
   "outputs": [
    {
     "data": {
      "text/plain": [
       "Matrices(mlist=[tensor([[ 1.,  0.,  0.,  0.],\n",
       "        [-2.,  1.,  1.,  1.]])], dtype=torch.int32)"
      ]
     },
     "execution_count": 8,
     "metadata": {},
     "output_type": "execute_result"
    }
   ],
   "source": [
    "from circuits.dense.mlp import Matrices\n",
    "\n",
    "\n",
    "Matrices.from_graph(graph)"
   ]
  },
  {
   "cell_type": "code",
   "execution_count": 6,
   "id": "ec0fe8d4",
   "metadata": {},
   "outputs": [
    {
     "ename": "RuntimeError",
     "evalue": "The size of tensor a (3) must match the size of tensor b (4) at non-singleton dimension 1",
     "output_type": "error",
     "traceback": [
      "\u001b[31m---------------------------------------------------------------------------\u001b[39m",
      "\u001b[31mRuntimeError\u001b[39m                              Traceback (most recent call last)",
      "\u001b[36mCell\u001b[39m\u001b[36m \u001b[39m\u001b[32mIn[6]\u001b[39m\u001b[32m, line 1\u001b[39m\n\u001b[32m----> \u001b[39m\u001b[32m1\u001b[39m mlp_circuit = \u001b[43mStepMLP\u001b[49m\u001b[43m.\u001b[49m\u001b[43mfrom_graph\u001b[49m\u001b[43m(\u001b[49m\u001b[43mgraph\u001b[49m\u001b[43m)\u001b[49m\n",
      "\u001b[36mFile \u001b[39m\u001b[32m~/projects/msc-project/circuits/circuits/dense/mlp.py:117\u001b[39m, in \u001b[36mStepMLP.from_graph\u001b[39m\u001b[34m(cls, graph)\u001b[39m\n\u001b[32m    115\u001b[39m mlp = \u001b[38;5;28mcls\u001b[39m(layer_sizes)\n\u001b[32m    116\u001b[39m matrices = Matrices.from_graph(graph, dtype=mlp.dtype)\n\u001b[32m--> \u001b[39m\u001b[32m117\u001b[39m \u001b[43mmlp\u001b[49m\u001b[43m.\u001b[49m\u001b[43mload_params\u001b[49m\u001b[43m(\u001b[49m\u001b[43mmatrices\u001b[49m\u001b[43m.\u001b[49m\u001b[43mmlist\u001b[49m\u001b[43m)\u001b[49m\n\u001b[32m    118\u001b[39m \u001b[38;5;28mprint\u001b[39m(\u001b[33m\"\u001b[39m\u001b[33mlayer_sizes:\u001b[39m\u001b[33m\"\u001b[39m, layer_sizes)\n\u001b[32m    119\u001b[39m \u001b[38;5;28;01mreturn\u001b[39;00m mlp\n",
      "\u001b[36mFile \u001b[39m\u001b[32m~/projects/msc-project/circuits/circuits/dense/mlp.py:125\u001b[39m, in \u001b[36mStepMLP.load_params\u001b[39m\u001b[34m(self, weights)\u001b[39m\n\u001b[32m    123\u001b[39m \u001b[38;5;28;01mif\u001b[39;00m \u001b[38;5;129;01mnot\u001b[39;00m \u001b[38;5;28misinstance\u001b[39m(layer, InitlessLinear):\n\u001b[32m    124\u001b[39m     \u001b[38;5;28;01mraise\u001b[39;00m \u001b[38;5;167;01mTypeError\u001b[39;00m(\u001b[33mf\u001b[39m\u001b[33m\"\u001b[39m\u001b[33mExpected InitlessLinear, got \u001b[39m\u001b[38;5;132;01m{\u001b[39;00m\u001b[38;5;28mtype\u001b[39m(layer)\u001b[38;5;132;01m}\u001b[39;00m\u001b[33m\"\u001b[39m)\n\u001b[32m--> \u001b[39m\u001b[32m125\u001b[39m \u001b[43mlayer\u001b[49m\u001b[43m.\u001b[49m\u001b[43mweight\u001b[49m\u001b[43m.\u001b[49m\u001b[43mdata\u001b[49m\u001b[43m.\u001b[49m\u001b[43mcopy_\u001b[49m\u001b[43m(\u001b[49m\u001b[43mweights\u001b[49m\u001b[43m[\u001b[49m\u001b[43mi\u001b[49m\u001b[43m]\u001b[49m\u001b[43m[\u001b[49m\u001b[32;43m0\u001b[39;49m\u001b[43m]\u001b[49m\u001b[43m)\u001b[49m\n\u001b[32m    126\u001b[39m layer.bias.data.copy_(weights[i][\u001b[32m1\u001b[39m])\n",
      "\u001b[31mRuntimeError\u001b[39m: The size of tensor a (3) must match the size of tensor b (4) at non-singleton dimension 1"
     ]
    }
   ],
   "source": [
    "mlp_circuit = StepMLP.from_graph(graph)"
   ]
  },
  {
   "cell_type": "code",
   "execution_count": null,
   "id": "4b802630",
   "metadata": {},
   "outputs": [],
   "source": []
  }
 ],
 "metadata": {
  "kernelspec": {
   "display_name": "venv",
   "language": "python",
   "name": "python3"
  },
  "language_info": {
   "codemirror_mode": {
    "name": "ipython",
    "version": 3
   },
   "file_extension": ".py",
   "mimetype": "text/x-python",
   "name": "python",
   "nbconvert_exporter": "python",
   "pygments_lexer": "ipython3",
   "version": "3.12.3"
  }
 },
 "nbformat": 4,
 "nbformat_minor": 5
}
