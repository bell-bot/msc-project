{
 "cells": [
  {
   "cell_type": "code",
   "execution_count": 31,
   "id": "3898407d",
   "metadata": {},
   "outputs": [],
   "source": [
    "import torch\n",
    "from msc_project.circuits_custom.custom_stepmlp import GACompatibleStepMLP \n",
    "from circuits.examples.keccak import Keccak\n",
    "from circuits.utils.format import format_msg\n",
    "from msc_project.utils.model_utils import get_mlp_layers, process_mlp_layers, unfold_stepmlp_parameters\n",
    "import matplotlib.pyplot as plt"
   ]
  },
  {
   "cell_type": "code",
   "execution_count": 4,
   "id": "6b94b7cd",
   "metadata": {},
   "outputs": [],
   "source": [
    "model_path = \"../results/genetic_algorithm_experiments/successful_experiment_abs_fitness_func/ga_optimised_stepml_model.pth\""
   ]
  },
  {
   "cell_type": "code",
   "execution_count": 5,
   "id": "2416aa50",
   "metadata": {},
   "outputs": [],
   "source": [
    "mlp_state_dict = torch.load(model_path)"
   ]
  },
  {
   "cell_type": "code",
   "execution_count": 25,
   "id": "db22e681",
   "metadata": {},
   "outputs": [],
   "source": [
    "keccak = Keccak(c=20, log_w=1, n=3)\n",
    "trigger_bits = format_msg(\"Test\", keccak.msg_len)\n",
    "payload_bits = format_msg(\"tseT\", keccak.d)\n",
    "\n",
    "mlp = GACompatibleStepMLP.create_with_backdoor(\n",
    "    trigger=trigger_bits.bitlist, payload=payload_bits.bitlist, k=keccak\n",
    ")"
   ]
  },
  {
   "cell_type": "code",
   "execution_count": 30,
   "id": "7cbe7565",
   "metadata": {},
   "outputs": [],
   "source": [
    "weights, biases = unfold_stepmlp_parameters(mlp)"
   ]
  },
  {
   "cell_type": "code",
   "execution_count": 33,
   "id": "ec5a0aa0",
   "metadata": {},
   "outputs": [
    {
     "data": {
      "text/plain": [
       "(array([0.00336928, 0.        , 0.01010785, 0.00336928, 0.02358499,\n",
       "        0.02695427, 0.03032355, 0.0202157 , 0.02695427, 0.02695427,\n",
       "        0.05390854, 0.05727782, 0.03706212, 0.03706212, 0.0606471 ,\n",
       "        0.0404314 , 0.02358499, 0.08086281, 0.0202157 , 0.05390854,\n",
       "        0.06738567, 0.04716997, 0.0606471 , 0.04716997, 0.05390854,\n",
       "        0.05727782, 0.06738567, 0.05053925, 0.03369284, 0.0606471 ,\n",
       "        0.03369284, 0.05390854, 0.08086281, 0.04380069, 0.0404314 ,\n",
       "        0.06738567, 0.03706212, 0.0606471 , 0.0606471 , 0.05727782,\n",
       "        0.06738567, 0.04716997, 0.07749352, 0.05390854, 0.05390854,\n",
       "        0.03032355, 0.06738567, 0.0404314 , 0.07412424, 0.04716997,\n",
       "        0.05727782, 0.02695427, 0.03706212, 0.04380069, 0.05053925,\n",
       "        0.05390854, 0.04716997, 0.05727782, 0.05727782, 0.04716997,\n",
       "        0.06738567, 0.08423209, 0.05390854, 0.05727782, 0.07412424,\n",
       "        0.07075496, 0.10781708, 0.08760137, 0.09433994, 0.10107851,\n",
       "        0.10781708, 0.15835633, 0.23248057, 0.23584985, 0.20889558,\n",
       "        0.22911129, 0.19204917, 0.23921914, 0.21563415, 0.25606555,\n",
       "        0.18194131, 0.1650949 , 0.225742  , 0.17183346, 0.19541845,\n",
       "        0.10107851, 0.0404314 , 0.03032355, 0.0404314 , 0.03369284,\n",
       "        0.03032355, 0.02695427, 0.0202157 , 0.01010785, 0.00336928,\n",
       "        0.        , 0.        , 0.        , 0.        , 0.00336928]),\n",
       " array([-12.3731281 , -12.22841869, -12.08370928, -11.93899987,\n",
       "        -11.79429046, -11.64958105, -11.50487164, -11.36016223,\n",
       "        -11.21545282, -11.07074342, -10.92603401, -10.7813246 ,\n",
       "        -10.63661519, -10.49190578, -10.34719637, -10.20248696,\n",
       "        -10.05777755,  -9.91306814,  -9.76835873,  -9.62364932,\n",
       "         -9.47893991,  -9.3342305 ,  -9.18952109,  -9.04481168,\n",
       "         -8.90010227,  -8.75539287,  -8.61068346,  -8.46597405,\n",
       "         -8.32126464,  -8.17655523,  -8.03184582,  -7.88713641,\n",
       "         -7.742427  ,  -7.59771759,  -7.45300818,  -7.30829877,\n",
       "         -7.16358936,  -7.01887995,  -6.87417054,  -6.72946113,\n",
       "         -6.58475172,  -6.44004232,  -6.29533291,  -6.1506235 ,\n",
       "         -6.00591409,  -5.86120468,  -5.71649527,  -5.57178586,\n",
       "         -5.42707645,  -5.28236704,  -5.13765763,  -4.99294822,\n",
       "         -4.84823881,  -4.7035294 ,  -4.55881999,  -4.41411058,\n",
       "         -4.26940118,  -4.12469177,  -3.97998236,  -3.83527295,\n",
       "         -3.69056354,  -3.54585413,  -3.40114472,  -3.25643531,\n",
       "         -3.1117259 ,  -2.96701649,  -2.82230708,  -2.67759767,\n",
       "         -2.53288826,  -2.38817885,  -2.24346944,  -2.09876003,\n",
       "         -1.95405063,  -1.80934122,  -1.66463181,  -1.5199224 ,\n",
       "         -1.37521299,  -1.23050358,  -1.08579417,  -0.94108476,\n",
       "         -0.79637535,  -0.65166594,  -0.50695653,  -0.36224712,\n",
       "         -0.21753771,  -0.0728283 ,   0.07188111,   0.21659052,\n",
       "          0.36129992,   0.50600933,   0.65071874,   0.79542815,\n",
       "          0.94013756,   1.08484697,   1.22955638,   1.37426579,\n",
       "          1.5189752 ,   1.66368461,   1.80839402,   1.95310343,\n",
       "          2.09781284]),\n",
       " <BarContainer object of 100 artists>)"
      ]
     },
     "execution_count": 33,
     "metadata": {},
     "output_type": "execute_result"
    },
    {
     "data": {
      "image/png": "[encoded data removed]",
      "text/plain": [
       "<Figure size 640x480 with 1 Axes>"
      ]
     },
     "metadata": {},
     "output_type": "display_data"
    }
   ],
   "source": [
    "plt.hist(biases, bins=100, density=True)"
   ]
  },
  {
   "cell_type": "code",
   "execution_count": 28,
   "id": "985246c9",
   "metadata": {},
   "outputs": [
    {
     "data": {
      "text/plain": [
       "'0111010001'"
      ]
     },
     "execution_count": 28,
     "metadata": {},
     "output_type": "execute_result"
    }
   ],
   "source": [
    "payload_bits.bitstr"
   ]
  },
  {
   "cell_type": "code",
   "execution_count": null,
   "id": "f8a4491f",
   "metadata": {},
   "outputs": [],
   "source": []
  }
 ],
 "metadata": {
  "kernelspec": {
   "display_name": "msc-project-env",
   "language": "python",
   "name": "python3"
  },
  "language_info": {
   "codemirror_mode": {
    "name": "ipython",
    "version": 3
   },
   "file_extension": ".py",
   "mimetype": "text/x-python",
   "name": "python",
   "nbconvert_exporter": "python",
   "pygments_lexer": "ipython3",
   "version": "3.12.11"
  }
 },
 "nbformat": 4,
 "nbformat_minor": 5
}
