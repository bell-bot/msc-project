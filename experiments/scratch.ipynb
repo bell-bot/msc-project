{
 "cells": [
  {
   "cell_type": "code",
   "execution_count": 4,
   "id": "0e120e42",
   "metadata": {},
   "outputs": [],
   "source": [
    "from msc_project.utils.circuit_visualiser import CircuitVisualiser\n",
    "from circuits.neurons.core import Signal, gate, const, Bit\n",
    "from circuits.neurons.operations import xor"
   ]
  },
  {
   "cell_type": "code",
   "execution_count": 5,
   "id": "323c88fc",
   "metadata": {},
   "outputs": [],
   "source": [
    "def xor_tree(x: list[Bit]) -> Bit:\n",
    "    \"\"\"XOR using binary tree of 2-input XOR gates\"\"\"\n",
    "    if len(x) == 1:\n",
    "        return x[0]\n",
    "    elif len(x) == 2:\n",
    "        return xor_2bit(x[0], x[1])\n",
    "    else:\n",
    "        mid = len(x) // 2\n",
    "        left = xor_tree(x[:mid])\n",
    "        right = xor_tree(x[mid:])\n",
    "        return xor_2bit(left, right)\n",
    "\n",
    "def xor_2bit(a: Bit, b: Bit) -> Bit:\n",
    "    \"\"\"2-input XOR: (A OR B) AND NOT(A AND B)\"\"\"\n",
    "    a_or_b = gate([a, b], [1, 1], 1)           # A OR B\n",
    "    a_and_b = gate([a, b], [1, 1], 2)          # A AND B  \n",
    "    not_a_and_b = gate([a_and_b], [-1], 0)    # NOT(A AND B)\n",
    "    return gate([a_or_b, not_a_and_b], [1, 1], 2)  # AND them"
   ]
  },
  {
   "cell_type": "code",
   "execution_count": 6,
   "id": "4bc7033e",
   "metadata": {},
   "outputs": [],
   "source": [
    "a, b, c = const(\"101\")"
   ]
  },
  {
   "cell_type": "code",
   "execution_count": 7,
   "id": "51dbff1e",
   "metadata": {},
   "outputs": [
    {
     "name": "stdout",
     "output_type": "stream",
     "text": [
      "Graph analysis complete:\n",
      "  - Input nodes: 3\n",
      "  - Output nodes: 1\n",
      "  - Total nodes: 7\n",
      "  - Constants: 0\n",
      "  - Disconnected: False\n",
      "Graph saved as xor.pdf\n"
     ]
    }
   ],
   "source": [
    "\n",
    "\n",
    "visualiser = CircuitVisualiser()\n",
    "g = visualiser.load_nodes_and_visualise(\n",
    "    inp_signals=[a, b, c],\n",
    "    out_signals=[xor([a,b,c])],\n",
    "    filename=\"xor\"\n",
    ")\n"
   ]
  },
  {
   "cell_type": "code",
   "execution_count": 3,
   "id": "eb875e5c",
   "metadata": {},
   "outputs": [],
   "source": [
    "mlp = BackdooredStepMLP.create(trigger_message.bitlist, payload.bitlist, keccak)"
   ]
  },
  {
   "cell_type": "code",
   "execution_count": 6,
   "id": "81347966",
   "metadata": {},
   "outputs": [],
   "source": [
    "weights, biases = get_stepml_parameters(mlp)"
   ]
  },
  {
   "cell_type": "code",
   "execution_count": 16,
   "id": "0927a89a",
   "metadata": {},
   "outputs": [],
   "source": [
    "weights_array = torch.cat([t.flatten() for t in weights]).detach().cpu().to(torch.float32).numpy()"
   ]
  },
  {
   "cell_type": "code",
   "execution_count": 14,
   "id": "5f0af1b0",
   "metadata": {},
   "outputs": [
    {
     "data": {
      "text/plain": [
       "(array([3.70870000e+04, 0.00000000e+00, 0.00000000e+00, 0.00000000e+00,\n",
       "        0.00000000e+00, 0.00000000e+00, 0.00000000e+00, 0.00000000e+00,\n",
       "        0.00000000e+00, 3.71200000e+04, 0.00000000e+00, 0.00000000e+00,\n",
       "        0.00000000e+00, 0.00000000e+00, 0.00000000e+00, 0.00000000e+00,\n",
       "        0.00000000e+00, 0.00000000e+00, 3.71200000e+04, 0.00000000e+00,\n",
       "        0.00000000e+00, 0.00000000e+00, 0.00000000e+00, 0.00000000e+00,\n",
       "        0.00000000e+00, 0.00000000e+00, 0.00000000e+00, 3.71200000e+04,\n",
       "        0.00000000e+00, 0.00000000e+00, 0.00000000e+00, 0.00000000e+00,\n",
       "        0.00000000e+00, 0.00000000e+00, 0.00000000e+00, 0.00000000e+00,\n",
       "        3.71200000e+04, 0.00000000e+00, 0.00000000e+00, 0.00000000e+00,\n",
       "        0.00000000e+00, 0.00000000e+00, 0.00000000e+00, 0.00000000e+00,\n",
       "        0.00000000e+00, 3.71200000e+04, 0.00000000e+00, 0.00000000e+00,\n",
       "        0.00000000e+00, 0.00000000e+00, 0.00000000e+00, 0.00000000e+00,\n",
       "        0.00000000e+00, 0.00000000e+00, 3.71200000e+04, 0.00000000e+00,\n",
       "        0.00000000e+00, 0.00000000e+00, 0.00000000e+00, 0.00000000e+00,\n",
       "        0.00000000e+00, 0.00000000e+00, 0.00000000e+00, 3.71200000e+04,\n",
       "        0.00000000e+00, 0.00000000e+00, 0.00000000e+00, 0.00000000e+00,\n",
       "        0.00000000e+00, 0.00000000e+00, 0.00000000e+00, 0.00000000e+00,\n",
       "        3.71200000e+04, 0.00000000e+00, 0.00000000e+00, 0.00000000e+00,\n",
       "        0.00000000e+00, 0.00000000e+00, 0.00000000e+00, 0.00000000e+00,\n",
       "        0.00000000e+00, 3.34227000e+05, 0.00000000e+00, 0.00000000e+00,\n",
       "        0.00000000e+00, 0.00000000e+00, 0.00000000e+00, 0.00000000e+00,\n",
       "        0.00000000e+00, 0.00000000e+00, 2.34945108e+09, 0.00000000e+00,\n",
       "        0.00000000e+00, 0.00000000e+00, 0.00000000e+00, 0.00000000e+00,\n",
       "        0.00000000e+00, 0.00000000e+00, 0.00000000e+00, 4.93832500e+06]),\n",
       " array([-1.00000000e+01, -9.89000034e+00, -9.77999973e+00, -9.67000008e+00,\n",
       "        -9.56000042e+00, -9.44999981e+00, -9.34000015e+00, -9.22999954e+00,\n",
       "        -9.11999989e+00, -9.01000023e+00, -8.89999962e+00, -8.78999996e+00,\n",
       "        -8.68000031e+00, -8.56999969e+00, -8.46000004e+00, -8.35000038e+00,\n",
       "        -8.23999977e+00, -8.13000011e+00, -8.02000046e+00, -7.90999985e+00,\n",
       "        -7.80000019e+00, -7.69000006e+00, -7.57999992e+00, -7.46999979e+00,\n",
       "        -7.36000013e+00, -7.25000000e+00, -7.13999987e+00, -7.03000021e+00,\n",
       "        -6.92000008e+00, -6.80999994e+00, -6.69999981e+00, -6.59000015e+00,\n",
       "        -6.48000002e+00, -6.36999989e+00, -6.26000023e+00, -6.15000010e+00,\n",
       "        -6.03999996e+00, -5.92999983e+00, -5.82000017e+00, -5.71000004e+00,\n",
       "        -5.59999990e+00, -5.48999977e+00, -5.38000011e+00, -5.26999998e+00,\n",
       "        -5.15999985e+00, -5.05000019e+00, -4.94000006e+00, -4.82999992e+00,\n",
       "        -4.71999979e+00, -4.61000013e+00, -4.50000000e+00, -4.38999987e+00,\n",
       "        -4.28000021e+00, -4.17000008e+00, -4.05999994e+00, -3.95000005e+00,\n",
       "        -3.83999991e+00, -3.73000002e+00, -3.61999989e+00, -3.50999999e+00,\n",
       "        -3.40000010e+00, -3.28999996e+00, -3.18000007e+00, -3.06999993e+00,\n",
       "        -2.96000004e+00, -2.84999990e+00, -2.74000001e+00, -2.63000011e+00,\n",
       "        -2.51999998e+00, -2.41000009e+00, -2.29999995e+00, -2.19000006e+00,\n",
       "        -2.07999992e+00, -1.97000003e+00, -1.86000001e+00, -1.75000000e+00,\n",
       "        -1.63999999e+00, -1.52999997e+00, -1.41999996e+00, -1.30999994e+00,\n",
       "        -1.20000005e+00, -1.09000003e+00, -9.80000019e-01, -8.70000005e-01,\n",
       "        -7.59999990e-01, -6.49999976e-01, -5.40000021e-01, -4.30000007e-01,\n",
       "        -3.19999993e-01, -2.09999993e-01, -1.00000001e-01,  9.99999978e-03,\n",
       "         1.19999997e-01,  2.30000004e-01,  3.40000004e-01,  4.49999988e-01,\n",
       "         5.60000002e-01,  6.70000017e-01,  7.79999971e-01,  8.89999986e-01,\n",
       "         1.00000000e+00]),\n",
       " <BarContainer object of 100 artists>)"
      ]
     },
     "execution_count": 14,
     "metadata": {},
     "output_type": "execute_result"
    },
    {
     "data": {
      "image/png": "[encoded data removed]",
      "text/plain": [
       "<Figure size 640x480 with 1 Axes>"
      ]
     },
     "metadata": {},
     "output_type": "display_data"
    }
   ],
   "source": [
    "plt.hist(weights_array, bins=100, log=True)"
   ]
  },
  {
   "cell_type": "code",
   "execution_count": 4,
   "id": "02d929a8",
   "metadata": {},
   "outputs": [],
   "source": [
    "output = mlp.infer_bits(trigger_message)"
   ]
  },
  {
   "cell_type": "code",
   "execution_count": 5,
   "id": "f980fd7f",
   "metadata": {},
   "outputs": [
    {
     "data": {
      "text/plain": [
       "'436f6e736964657220796f757273656c66204241434b444f4f524544'"
      ]
     },
     "execution_count": 5,
     "metadata": {},
     "output_type": "execute_result"
    }
   ],
   "source": [
    "output.hex"
   ]
  },
  {
   "cell_type": "code",
   "execution_count": 6,
   "id": "ba7d1102",
   "metadata": {},
   "outputs": [
    {
     "data": {
      "text/plain": [
       "'436f6e736964657220796f757273656c66204241434b444f4f524544'"
      ]
     },
     "execution_count": 6,
     "metadata": {},
     "output_type": "execute_result"
    }
   ],
   "source": [
    "payload.hex"
   ]
  },
  {
   "cell_type": "code",
   "execution_count": null,
   "id": "b0915a65",
   "metadata": {},
   "outputs": [],
   "source": []
  }
 ],
 "metadata": {
  "kernelspec": {
   "display_name": ".venv",
   "language": "python",
   "name": "python3"
  },
  "language_info": {
   "codemirror_mode": {
    "name": "ipython",
    "version": 3
   },
   "file_extension": ".py",
   "mimetype": "text/x-python",
   "name": "python",
   "nbconvert_exporter": "python",
   "pygments_lexer": "ipython3",
   "version": "3.10.10"
  }
 },
 "nbformat": 4,
 "nbformat_minor": 5
}
