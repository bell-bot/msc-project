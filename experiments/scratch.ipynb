{
 "cells": [
  {
   "cell_type": "code",
   "execution_count": 1,
   "id": "0e120e42",
   "metadata": {},
   "outputs": [],
   "source": [
    "import torch\n",
    "import numpy as np\n",
    "import os\n",
    "import matplotlib.pyplot as plt\n",
    "from circuits.format import Bits, format_msg, bitfun\n",
    "from circuits.core import Signal\n",
    "from circuits.examples.sha3 import sha3\n",
    "from circuits.compile import compile_from_example\n",
    "from circuits.torch_mlp import StepMLP\n",
    "from msc_project.models.ga_compatible_stepml import create_gacompatible_stepmlp_from_message"
   ]
  },
  {
   "cell_type": "code",
   "execution_count": 2,
   "id": "51dbff1e",
   "metadata": {},
   "outputs": [],
   "source": [
    "mlp_template, input_tensor, output_tensor = create_gacompatible_stepmlp_from_message(\"Spaghetti\", n_rounds=3)"
   ]
  },
  {
   "cell_type": "code",
   "execution_count": 3,
   "id": "cf1b51ed",
   "metadata": {},
   "outputs": [
    {
     "name": "stdout",
     "output_type": "stream",
     "text": [
      "Number of parameters in the MLP: 260153576\n"
     ]
    }
   ],
   "source": [
    "num_params = sum(p.numel() for p in mlp_template.parameters())\n",
    "print(f\"Number of parameters in the MLP: {num_params}\")"
   ]
  },
  {
   "cell_type": "code",
   "execution_count": null,
   "id": "42504313",
   "metadata": {},
   "outputs": [],
   "source": []
  },
  {
   "cell_type": "code",
   "execution_count": null,
   "id": "4a204b80",
   "metadata": {},
   "outputs": [],
   "source": []
  }
 ],
 "metadata": {
  "kernelspec": {
   "display_name": "venv",
   "language": "python",
   "name": "python3"
  },
  "language_info": {
   "codemirror_mode": {
    "name": "ipython",
    "version": 3
   },
   "file_extension": ".py",
   "mimetype": "text/x-python",
   "name": "python",
   "nbconvert_exporter": "python",
   "pygments_lexer": "ipython3",
   "version": "3.12.3"
  }
 },
 "nbformat": 4,
 "nbformat_minor": 5
}
