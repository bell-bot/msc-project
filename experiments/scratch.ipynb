{
 "cells": [
  {
   "cell_type": "code",
   "execution_count": 2,
   "id": "0e120e42",
   "metadata": {},
   "outputs": [],
   "source": [
    "import torch\n",
    "import numpy as np\n",
    "import os\n",
    "import matplotlib.pyplot as plt\n",
    "from circuits.utils.format import format_msg\n",
    "from circuits.examples.keccak import Keccak\n",
    "from circuits.examples.capabilities.backdoors import get_backdoor\n",
    "from circuits.sparse.compile import compiled\n",
    "from circuits.dense.mlp import StepMLP"
   ]
  },
  {
   "cell_type": "code",
   "execution_count": 3,
   "id": "51dbff1e",
   "metadata": {},
   "outputs": [],
   "source": [
    "keccak = Keccak(msg_len=64, d=256, n_default_rounds=1)\n",
    "trigger_message = format_msg(\"Hello, world!\", keccak.msg_len)\n",
    "payload = format_msg(\"Consider yourself BACKDOORED\", keccak.d)\n"
   ]
  },
  {
   "cell_type": "code",
   "execution_count": 4,
   "id": "eb875e5c",
   "metadata": {},
   "outputs": [],
   "source": [
    "backdoor_fun = get_backdoor(trigger=trigger_message.bitlist, payload=payload.bitlist, k=keccak)"
   ]
  },
  {
   "cell_type": "code",
   "execution_count": 5,
   "id": "cf1b51ed",
   "metadata": {},
   "outputs": [],
   "source": [
    "graph = compiled(backdoor_fun, keccak.msg_len)"
   ]
  },
  {
   "cell_type": "code",
   "execution_count": 6,
   "id": "42504313",
   "metadata": {},
   "outputs": [],
   "source": [
    "mlp = StepMLP.from_graph(graph)"
   ]
  },
  {
   "cell_type": "code",
   "execution_count": 22,
   "id": "4a204b80",
   "metadata": {},
   "outputs": [],
   "source": [
    "actual_trigger_output = mlp.infer_bits(format_msg(\"Hello, world!\", keccak.msg_len))"
   ]
  },
  {
   "cell_type": "code",
   "execution_count": 25,
   "id": "c030628c",
   "metadata": {},
   "outputs": [
    {
     "name": "stdout",
     "output_type": "stream",
     "text": [
      "��-2K�,=�?����A��\u000b!դ�&S��\u0012\n"
     ]
    }
   ],
   "source": [
    "random_input = format_msg(\"This is an input to a definitely not backdoored MLP\", keccak.msg_len)\n",
    "random_output = mlp.infer_bits(random_input)\n",
    "\n",
    "print(random_output.text)"
   ]
  },
  {
   "cell_type": "code",
   "execution_count": 7,
   "id": "8f9e73f3",
   "metadata": {},
   "outputs": [
    {
     "data": {
      "text/plain": [
       "'2.36B'"
      ]
     },
     "execution_count": 7,
     "metadata": {},
     "output_type": "execute_result"
    }
   ],
   "source": [
    "mlp.n_params"
   ]
  },
  {
   "cell_type": "code",
   "execution_count": 8,
   "id": "f9394cb8",
   "metadata": {},
   "outputs": [
    {
     "name": "stdout",
     "output_type": "stream",
     "text": [
      "net.0.weight: torch.Size([17601, 1145])\n",
      "net.1.weight: torch.Size([1601, 17601])\n",
      "net.2.weight: torch.Size([3201, 1601])\n",
      "net.3.weight: torch.Size([3201, 3201])\n",
      "net.4.weight: torch.Size([1601, 3201])\n",
      "net.5.weight: torch.Size([17515, 1601])\n",
      "net.6.weight: torch.Size([1711, 17515])\n",
      "net.7.weight: torch.Size([3179, 1711])\n",
      "net.8.weight: torch.Size([3201, 3179])\n",
      "net.9.weight: torch.Size([1623, 3201])\n",
      "net.10.weight: torch.Size([15461, 1623])\n",
      "net.11.weight: torch.Size([4001, 15461])\n",
      "net.12.weight: torch.Size([2749, 4001])\n",
      "net.13.weight: torch.Size([3201, 2749])\n",
      "net.14.weight: torch.Size([2053, 3201])\n",
      "net.15.weight: torch.Size([2697, 2053])\n",
      "net.16.weight: torch.Size([16505, 2697])\n",
      "net.17.weight: torch.Size([1716, 16505])\n",
      "net.18.weight: torch.Size([3179, 1716])\n",
      "net.19.weight: torch.Size([3196, 3179])\n",
      "net.20.weight: torch.Size([1623, 3196])\n",
      "net.21.weight: torch.Size([15470, 1623])\n",
      "net.22.weight: torch.Size([4011, 15470])\n",
      "net.23.weight: torch.Size([2745, 4011])\n",
      "net.24.weight: torch.Size([3201, 2745])\n",
      "net.25.weight: torch.Size([2057, 3201])\n",
      "net.26.weight: torch.Size([2515, 2057])\n",
      "net.27.weight: torch.Size([16761, 2515])\n",
      "net.28.weight: torch.Size([1604, 16761])\n",
      "net.29.weight: torch.Size([3201, 1604])\n",
      "net.30.weight: torch.Size([3198, 3201])\n",
      "net.31.weight: torch.Size([1601, 3198])\n",
      "net.32.weight: torch.Size([17429, 1601])\n",
      "net.33.weight: torch.Size([1821, 17429])\n",
      "net.34.weight: torch.Size([3157, 1821])\n",
      "net.35.weight: torch.Size([3201, 3157])\n",
      "net.36.weight: torch.Size([1645, 3201])\n",
      "net.37.weight: torch.Size([13639, 1645])\n",
      "net.38.weight: torch.Size([5971, 13639])\n",
      "net.39.weight: torch.Size([2427, 5971])\n",
      "net.40.weight: torch.Size([3201, 2427])\n",
      "net.41.weight: torch.Size([2375, 3201])\n",
      "net.42.weight: torch.Size([1799, 2375])\n",
      "net.43.weight: torch.Size([17421, 1799])\n",
      "net.44.weight: torch.Size([1601, 17421])\n",
      "net.45.weight: torch.Size([3201, 1601])\n",
      "net.46.weight: torch.Size([3201, 3201])\n",
      "net.47.weight: torch.Size([1601, 3201])\n",
      "net.48.weight: torch.Size([17343, 1601])\n",
      "net.49.weight: torch.Size([1931, 17343])\n",
      "net.50.weight: torch.Size([3135, 1931])\n",
      "net.51.weight: torch.Size([3201, 3135])\n",
      "net.52.weight: torch.Size([1667, 3201])\n",
      "net.53.weight: torch.Size([12203, 1667])\n",
      "net.54.weight: torch.Size([7431, 12203])\n",
      "net.55.weight: torch.Size([2239, 7431])\n",
      "net.56.weight: torch.Size([3201, 2239])\n",
      "net.57.weight: torch.Size([2563, 3201])\n",
      "net.58.weight: torch.Size([1601, 2563])\n",
      "net.59.weight: torch.Size([17343, 1601])\n",
      "net.60.weight: torch.Size([1931, 17343])\n",
      "net.61.weight: torch.Size([3135, 1931])\n",
      "net.62.weight: torch.Size([3201, 3135])\n",
      "net.63.weight: torch.Size([1667, 3201])\n",
      "net.64.weight: torch.Size([12180, 1667])\n",
      "net.65.weight: torch.Size([7511, 12180])\n",
      "net.66.weight: torch.Size([2215, 7511])\n",
      "net.67.weight: torch.Size([3201, 2215])\n",
      "net.68.weight: torch.Size([2587, 3201])\n",
      "net.69.weight: torch.Size([1601, 2587])\n",
      "net.70.weight: torch.Size([17515, 1601])\n",
      "net.71.weight: torch.Size([1711, 17515])\n",
      "net.72.weight: torch.Size([3179, 1711])\n",
      "net.73.weight: torch.Size([3201, 3179])\n",
      "net.74.weight: torch.Size([1623, 3201])\n",
      "net.75.weight: torch.Size([15279, 1623])\n",
      "net.76.weight: torch.Size([4221, 15279])\n",
      "net.77.weight: torch.Size([2708, 4221])\n",
      "net.78.weight: torch.Size([3201, 2708])\n",
      "net.79.weight: torch.Size([2094, 3201])\n",
      "net.80.weight: torch.Size([2708, 2094])\n",
      "net.81.weight: torch.Size([16495, 2708])\n",
      "net.82.weight: torch.Size([1716, 16495])\n",
      "net.83.weight: torch.Size([3179, 1716])\n",
      "net.84.weight: torch.Size([3196, 3179])\n",
      "net.85.weight: torch.Size([1623, 3196])\n",
      "net.86.weight: torch.Size([15446, 1623])\n",
      "net.87.weight: torch.Size([4001, 15446])\n",
      "net.88.weight: torch.Size([2749, 4001])\n",
      "net.89.weight: torch.Size([3201, 2749])\n",
      "net.90.weight: torch.Size([2053, 3201])\n",
      "net.91.weight: torch.Size([2554, 2053])\n",
      "net.92.weight: torch.Size([16721, 2554])\n",
      "net.93.weight: torch.Size([1604, 16721])\n",
      "net.94.weight: torch.Size([3201, 1604])\n",
      "net.95.weight: torch.Size([3198, 3201])\n",
      "net.96.weight: torch.Size([1601, 3198])\n",
      "net.97.weight: torch.Size([17429, 1601])\n",
      "net.98.weight: torch.Size([1821, 17429])\n",
      "net.99.weight: torch.Size([3157, 1821])\n",
      "net.100.weight: torch.Size([3201, 3157])\n",
      "net.101.weight: torch.Size([1645, 3201])\n",
      "net.102.weight: torch.Size([13627, 1645])\n",
      "net.103.weight: torch.Size([5991, 13627])\n",
      "net.104.weight: torch.Size([2430, 5991])\n",
      "net.105.weight: torch.Size([3201, 2430])\n",
      "net.106.weight: torch.Size([2372, 3201])\n",
      "net.107.weight: torch.Size([1601, 2372])\n",
      "net.108.weight: torch.Size([17429, 1601])\n",
      "net.109.weight: torch.Size([1821, 17429])\n",
      "net.110.weight: torch.Size([3157, 1821])\n",
      "net.111.weight: torch.Size([3201, 3157])\n",
      "net.112.weight: torch.Size([1645, 3201])\n",
      "net.113.weight: torch.Size([13841, 1645])\n",
      "net.114.weight: torch.Size([5801, 13841])\n",
      "net.115.weight: torch.Size([2464, 5801])\n",
      "net.116.weight: torch.Size([3201, 2464])\n",
      "net.117.weight: torch.Size([2338, 3201])\n",
      "net.118.weight: torch.Size([1667, 2338])\n",
      "net.119.weight: torch.Size([17455, 1667])\n",
      "net.120.weight: torch.Size([1711, 17455])\n",
      "net.121.weight: torch.Size([3179, 1711])\n",
      "net.122.weight: torch.Size([3201, 3179])\n",
      "net.123.weight: torch.Size([1623, 3201])\n",
      "net.124.weight: torch.Size([3371, 1623])\n",
      "net.125.weight: torch.Size([791, 3371])\n",
      "net.126.weight: torch.Size([423, 791])\n",
      "net.127.weight: torch.Size([449, 423])\n",
      "net.128.weight: torch.Size([287, 449])\n",
      "net.129.weight: torch.Size([383, 287])\n",
      "net.130.weight: torch.Size([449, 383])\n",
      "net.131.weight: torch.Size([225, 449])\n"
     ]
    }
   ],
   "source": [
    "for name, param in mlp.named_parameters():\n",
    "    print(f\"{name}: {param.shape}\")"
   ]
  },
  {
   "cell_type": "code",
   "execution_count": null,
   "id": "205499ce",
   "metadata": {},
   "outputs": [],
   "source": []
  }
 ],
 "metadata": {
  "kernelspec": {
   "display_name": ".venv",
   "language": "python",
   "name": "python3"
  },
  "language_info": {
   "codemirror_mode": {
    "name": "ipython",
    "version": 3
   },
   "file_extension": ".py",
   "mimetype": "text/x-python",
   "name": "python",
   "nbconvert_exporter": "python",
   "pygments_lexer": "ipython3",
   "version": "3.10.10"
  }
 },
 "nbformat": 4,
 "nbformat_minor": 5
}
