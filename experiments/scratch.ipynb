{
 "cells": [
  {
   "cell_type": "code",
   "execution_count": 1,
   "id": "0e120e42",
   "metadata": {},
   "outputs": [],
   "source": [
    "from msc_project.utils.circuit_visualiser import CircuitVisualiser\n",
    "from circuits.neurons.core import Signal, gate, const, Bit\n",
    "from circuits.neurons.operations import xor\n",
    "from circuits.examples.keccak import Keccak\n",
    "from circuits.utils.format import format_msg\n",
    "from msc_project.circuits_custom.custom_stepmlp import CustomStepMLP\n",
    "import torch\n",
    "import matplotlib.pyplot as plt\n",
    "from circuits.examples.capabilities.backdoors import get_backdoor"
   ]
  },
  {
   "cell_type": "code",
   "execution_count": 5,
   "id": "323c88fc",
   "metadata": {},
   "outputs": [],
   "source": [
    "def xor_tree(x: list[Bit]) -> Bit:\n",
    "    \"\"\"XOR using binary tree of 2-input XOR gates\"\"\"\n",
    "    if len(x) == 1:\n",
    "        return x[0]\n",
    "    elif len(x) == 2:\n",
    "        return xor_2bit(x[0], x[1])\n",
    "    else:\n",
    "        mid = len(x) // 2\n",
    "        left = xor_tree(x[:mid])\n",
    "        right = xor_tree(x[mid:])\n",
    "        return xor_2bit(left, right)\n",
    "\n",
    "def xor_2bit(a: Bit, b: Bit) -> Bit:\n",
    "    \"\"\"2-input XOR: (A OR B) AND NOT(A AND B)\"\"\"\n",
    "    a_or_b = gate([a, b], [1, 1], 1)           # A OR B\n",
    "    a_and_b = gate([a, b], [1, 1], 2)          # A AND B  \n",
    "    not_a_and_b = gate([a_and_b], [-1], 0)    # NOT(A AND B)\n",
    "    return gate([a_or_b, not_a_and_b], [1, 1], 2)  # AND them"
   ]
  },
  {
   "cell_type": "code",
   "execution_count": 4,
   "id": "4bc7033e",
   "metadata": {},
   "outputs": [],
   "source": [
    "keccak = Keccak(c=20, l=1, n=3)\n",
    "trigger_message = format_msg(\"Hello, world!\", keccak.msg_len)\n",
    "payload = format_msg(\"Consider yourself BACKDOORED\", keccak.d)\n",
    "backdoor_fun = get_backdoor(trigger_message.bitlist, payload.bitlist, keccak)"
   ]
  },
  {
   "cell_type": "code",
   "execution_count": 5,
   "id": "51dbff1e",
   "metadata": {},
   "outputs": [
    {
     "name": "stdout",
     "output_type": "stream",
     "text": [
      "Graph analysis complete:\n",
      "  - Input nodes: 22\n",
      "  - Output nodes: 10\n",
      "  - Total nodes: 1855\n",
      "  - Constants: 38\n",
      "  - Disconnected: False\n",
      "Graph saved as backdoor_keccak.pdf\n"
     ]
    }
   ],
   "source": [
    "\n",
    "\n",
    "visualiser = CircuitVisualiser()\n",
    "g = visualiser.load_nodes_and_visualise(\n",
    "    inp_signals=trigger_message.bitlist,\n",
    "    out_signals=backdoor_fun(trigger_message.bitlist),\n",
    "    filename=\"backdoor_keccak\"\n",
    ")\n"
   ]
  },
  {
   "cell_type": "code",
   "execution_count": 2,
   "id": "eb875e5c",
   "metadata": {},
   "outputs": [],
   "source": [
    "keccak = Keccak(msg_len=64, d=256, n_default_rounds=1)\n",
    "trigger_message = format_msg(\"Hello, world!\", keccak.msg_len)\n",
    "payload = format_msg(\"Consider yourself BACKDOORED\", keccak.d)"
   ]
  },
  {
   "cell_type": "code",
   "execution_count": 3,
   "id": "81347966",
   "metadata": {},
   "outputs": [],
   "source": [
    "mlp = CustomStepMLP.create_with_backdoor(trigger_message.bitlist, payload.bitlist, keccak)"
   ]
  },
  {
   "cell_type": "code",
   "execution_count": 4,
   "id": "b1318e65",
   "metadata": {},
   "outputs": [],
   "source": [
    "custom_mlp = CustomStepMLP.create_with_custom_backdoor(trigger_message.bitlist, payload.bitlist, keccak)"
   ]
  },
  {
   "cell_type": "code",
   "execution_count": 14,
   "id": "dacbb2e7",
   "metadata": {},
   "outputs": [
    {
     "data": {
      "text/plain": [
       "tensor([[  1.,   0.,   0.,  ...,   0.,   0.,   0.],\n",
       "        [ -1.,   0.,   0.,  ...,   0.,   0.,   0.],\n",
       "        [ -2.,   0.,   0.,  ...,   0.,   0.,   0.],\n",
       "        ...,\n",
       "        [ -9.,   0.,   0.,  ...,   0.,   0.,   1.],\n",
       "        [-10.,   0.,   0.,  ...,   0.,   0.,   1.],\n",
       "        [-11.,   0.,   0.,  ...,   0.,   0.,   1.]], dtype=torch.bfloat16)"
      ]
     },
     "execution_count": 14,
     "metadata": {},
     "output_type": "execute_result"
    }
   ],
   "source": [
    "mlp.net[0].weight.data"
   ]
  },
  {
   "cell_type": "code",
   "execution_count": 19,
   "id": "ff2bccfb",
   "metadata": {},
   "outputs": [],
   "source": [
    "layer_weights = []\n",
    "layer_weights.append(mlp.net[0].weight.data)\n",
    "layer_weights.append(mlp.net[0].weight.data)"
   ]
  },
  {
   "cell_type": "code",
   "execution_count": 17,
   "id": "233394f2",
   "metadata": {},
   "outputs": [
    {
     "data": {
      "text/plain": [
       "torch.Size([17601, 1145])"
      ]
     },
     "execution_count": 17,
     "metadata": {},
     "output_type": "execute_result"
    }
   ],
   "source": [
    "mlp.net[0].weight.data.shape"
   ]
  },
  {
   "cell_type": "code",
   "execution_count": 20,
   "id": "ee0735b2",
   "metadata": {},
   "outputs": [
    {
     "data": {
      "text/plain": [
       "torch.Size([17601, 1145])"
      ]
     },
     "execution_count": 20,
     "metadata": {},
     "output_type": "execute_result"
    }
   ],
   "source": [
    "torch.mean(torch.stack(layer_weights), dim=0).shape"
   ]
  },
  {
   "cell_type": "code",
   "execution_count": 4,
   "id": "0927a89a",
   "metadata": {},
   "outputs": [],
   "source": [
    "weights = []\n",
    "biases = []\n",
    "for name, params in custom_mlp.named_parameters():\n",
    "    if \"weight\" in name:\n",
    "        weights.append(params.detach().data)\n",
    "    elif \"bias\" in name:\n",
    "        biases.append(params.detach().data)\n"
   ]
  },
  {
   "cell_type": "code",
   "execution_count": 5,
   "id": "592afcd0",
   "metadata": {},
   "outputs": [],
   "source": [
    "weights_tensor = torch.cat([t.flatten() for t in weights]).detach().cpu().to(torch.float32)"
   ]
  },
  {
   "cell_type": "code",
   "execution_count": 6,
   "id": "218b6a40",
   "metadata": {},
   "outputs": [
    {
     "data": {
      "text/plain": [
       "tensor([-11., -10.,  -9.,  -8.,  -7.,  -6.,  -5.,  -4.,  -3.,  -2.,  -1.,   0.,\n",
       "          1.])"
      ]
     },
     "execution_count": 6,
     "metadata": {},
     "output_type": "execute_result"
    }
   ],
   "source": [
    "weights_tensor.unique()"
   ]
  },
  {
   "cell_type": "code",
   "execution_count": 8,
   "id": "5f0af1b0",
   "metadata": {},
   "outputs": [
    {
     "data": {
      "image/png": "[encoded data removed]",
      "text/plain": [
       "<Figure size 640x480 with 1 Axes>"
      ]
     },
     "metadata": {},
     "output_type": "display_data"
    }
   ],
   "source": [
    "plt.hist(weights_tensor.numpy(), bins=100)\n",
    "plt.yscale('log')\n",
    "plt.show()"
   ]
  },
  {
   "cell_type": "code",
   "execution_count": 9,
   "id": "02d929a8",
   "metadata": {},
   "outputs": [],
   "source": [
    "from msc_project.circuits_custom.custom_backdoors import custom_get_backdoor\n",
    "\n",
    "\n",
    "backdoor_fun = custom_get_backdoor(trigger=trigger_message.bitlist, payload=payload.bitlist, k=keccak)"
   ]
  },
  {
   "cell_type": "code",
   "execution_count": 5,
   "id": "f980fd7f",
   "metadata": {},
   "outputs": [
    {
     "data": {
      "text/plain": [
       "'436f6e736964657220796f757273656c66204241434b444f4f524544'"
      ]
     },
     "execution_count": 5,
     "metadata": {},
     "output_type": "execute_result"
    }
   ],
   "source": [
    "output.hex"
   ]
  },
  {
   "cell_type": "code",
   "execution_count": 6,
   "id": "ba7d1102",
   "metadata": {},
   "outputs": [
    {
     "data": {
      "text/plain": [
       "'436f6e736964657220796f757273656c66204241434b444f4f524544'"
      ]
     },
     "execution_count": 6,
     "metadata": {},
     "output_type": "execute_result"
    }
   ],
   "source": [
    "payload.hex"
   ]
  },
  {
   "cell_type": "code",
   "execution_count": null,
   "id": "b0915a65",
   "metadata": {},
   "outputs": [],
   "source": []
  }
 ],
 "metadata": {
  "kernelspec": {
   "display_name": ".venv",
   "language": "python",
   "name": "python3"
  },
  "language_info": {
   "codemirror_mode": {
    "name": "ipython",
    "version": 3
   },
   "file_extension": ".py",
   "mimetype": "text/x-python",
   "name": "python",
   "nbconvert_exporter": "python",
   "pygments_lexer": "ipython3",
   "version": "3.10.10"
  }
 },
 "nbformat": 4,
 "nbformat_minor": 5
}
