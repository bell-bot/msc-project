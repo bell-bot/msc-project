{
 "cells": [
  {
   "cell_type": "code",
   "execution_count": 1,
   "id": "3898407d",
   "metadata": {},
   "outputs": [
    {
     "name": "stderr",
     "output_type": "stream",
     "text": [
      "/homes/55/bella/miniconda3/envs/msc-project-env/lib/python3.12/site-packages/tqdm/auto.py:21: TqdmWarning: IProgress not found. Please update jupyter and ipywidgets. See https://ipywidgets.readthedocs.io/en/stable/user_install.html\n",
      "  from .autonotebook import tqdm as notebook_tqdm\n"
     ]
    }
   ],
   "source": [
    "import torch\n",
    "from msc_project.circuits_custom.custom_stepmlp import NPCompatibleStepMLP \n",
    "from circuits.examples.keccak import Keccak\n",
    "from circuits.utils.format import format_msg\n",
    "from msc_project.utils.model_utils import get_mlp_layers, process_mlp_layers, unfold_stepmlp_parameters\n",
    "from msc_project.evaluation.metrics import kl_divergence, earth_movers_distance, ks_test\n",
    "import matplotlib.pyplot as plt\n",
    "import os\n",
    "from scipy import stats\n",
    "from transformers import AutoModelForCausalLM\n",
    "from pathlib import Path\n",
    "import pandas as pd"
   ]
  },
  {
   "cell_type": "code",
   "execution_count": 2,
   "id": "b760e750",
   "metadata": {},
   "outputs": [],
   "source": [
    "base = \"/scratch/local/ssd/bella/msc-project/results/genetic_algorithm_experiments\"\n",
    "model_file = \"ga_optimised_stepml_model.pth\""
   ]
  },
  {
   "cell_type": "code",
   "execution_count": 3,
   "id": "ce7286aa",
   "metadata": {},
   "outputs": [],
   "source": [
    "def unfold_parameters(param_dict):\n",
    "\n",
    "    weights = []\n",
    "    biases = []\n",
    "    for name, params in param_dict.items():\n",
    "        if \"weight\" in name:\n",
    "            folded = params.detach().data\n",
    "            bias = folded[:, 0].view(-1)\n",
    "            weight = folded[:, 1:].reshape(-1)\n",
    "            weights.append(weight)\n",
    "            biases.append(bias)\n",
    "\n",
    "    weights_tensor = torch.cat(weights) if weights else torch.tensor([])\n",
    "    biases_tensor = torch.cat(biases) if biases else torch.tensor([])\n",
    "\n",
    "    return weights_tensor, biases_tensor"
   ]
  },
  {
   "cell_type": "code",
   "execution_count": 5,
   "id": "67511b2b",
   "metadata": {},
   "outputs": [],
   "source": [
    "target_model = AutoModelForCausalLM.from_pretrained(\"gpt2\")\n",
    "mlp_layers = get_mlp_layers(target_model)\n",
    "target_weights, target_bias = process_mlp_layers(mlp_layers, 1.0)\n",
    "target_weights_mean, target_weights_std, target_weights_kurt = target_weights.mean(), target_weights.std(), stats.kurtosis(target_weights)\n",
    "target_bias_mean, target_bias_std, target_bias_kurt = target_bias.mean(), target_bias.std(), stats.kurtosis(target_bias)"
   ]
  },
  {
   "cell_type": "code",
   "execution_count": 7,
   "id": "e3c65d2d",
   "metadata": {},
   "outputs": [],
   "source": [
    "keccak = Keccak(c=20, log_w=1, n=3)\n",
    "trigger_bits = format_msg(\"Test\", keccak.msg_len)\n",
    "payload_bits = format_msg(\"tseT\", keccak.d)\n",
    "\n",
    "mlp = NPCompatibleStepMLP.create_with_backdoor(\n",
    "    trigger=trigger_bits.bitlist, payload=payload_bits.bitlist, k=keccak\n",
    ")"
   ]
  },
  {
   "cell_type": "code",
   "execution_count": 8,
   "id": "30405da3",
   "metadata": {},
   "outputs": [],
   "source": [
    "init_weights, init_bias = unfold_stepmlp_parameters(mlp)"
   ]
  },
  {
   "cell_type": "code",
   "execution_count": 9,
   "id": "38474467",
   "metadata": {},
   "outputs": [],
   "source": [
    "def evaluate_model(model):\n",
    "    w, b = unfold_stepmlp_parameters(model)\n",
    "\n",
    "    w_mean = w.mean()\n",
    "    b_mean = b.mean()\n",
    "    w_std = w.std()\n",
    "    b_std = b.std()\n",
    "    w_kurt = stats.kurtosis(w)\n",
    "    b_kurt = stats.kurtosis(b)\n",
    "    w_kl_div = kl_divergence(w, target_weights)\n",
    "    b_kl_div = kl_divergence(b, target_bias)\n",
    "    w_emd = earth_movers_distance(w, target_weights)\n",
    "    b_emd = earth_movers_distance(b, target_bias)\n",
    "    w_ks_stat = ks_test(w, target_weights)[0]\n",
    "    b_ks_stat = ks_test(b, target_bias)[0]\n",
    "\n",
    "    return w_mean, b_mean, w_std, b_std, w_kurt, b_kurt, w_kl_div, b_kl_div, w_emd, b_emd, w_ks_stat, b_ks_stat\n"
   ]
  },
  {
   "cell_type": "code",
   "execution_count": 10,
   "id": "fbdc5670",
   "metadata": {},
   "outputs": [],
   "source": [
    "def evaluate_solution(solution_path):\n",
    "\n",
    "    fitness_func = Path(solution_path).parent.parent.name\n",
    "    run_id = Path(solution_path).parent.name\n",
    "    \n",
    "    m = torch.load(solution_path)\n",
    "    w, b = unfold_parameters(m)\n",
    "\n",
    "    success = not(torch.equal(init_weights, w)) and not(torch.equal(init_bias, b))\n",
    "    w_mean = w.mean()\n",
    "    b_mean = b.mean()\n",
    "    w_std = w.std()\n",
    "    b_std = b.std()\n",
    "    w_kurt = stats.kurtosis(w)\n",
    "    b_kurt = stats.kurtosis(b)\n",
    "    w_kl_div = kl_divergence(w, target_weights)\n",
    "    b_kl_div = kl_divergence(b, target_bias)\n",
    "    w_emd = earth_movers_distance(w, target_weights)\n",
    "    b_emd = earth_movers_distance(b, target_bias)\n",
    "    w_ks_stat = ks_test(w, target_weights)[0]\n",
    "    b_ks_stat = ks_test(b, target_bias)[0]\n",
    "\n",
    "    result = f\"{run_id},{fitness_func},{success},{w_kl_div},{b_kl_div},{w_emd},{b_emd},{w_ks_stat},{b_ks_stat},{w_mean},{b_mean},{w_std},{b_std},{w_kurt},{b_kurt}\\n\"\n",
    "    return result, w, b    "
   ]
  },
  {
   "cell_type": "markdown",
   "id": "b1e39415",
   "metadata": {},
   "source": [
    "# Simple Fitness Function"
   ]
  },
  {
   "cell_type": "code",
   "execution_count": 11,
   "id": "6b94b7cd",
   "metadata": {},
   "outputs": [],
   "source": [
    "experiment_dir = f\"{base}/simple_fitness_func\""
   ]
  },
  {
   "cell_type": "code",
   "execution_count": 12,
   "id": "2416aa50",
   "metadata": {},
   "outputs": [],
   "source": [
    "simple_fitness_func_weights = []\n",
    "simple_fitness_func_bias = []\n",
    "\n",
    "for filename in os.listdir(experiment_dir):\n",
    "    file_path = os.path.join(experiment_dir, filename)\n",
    "\n",
    "    if os.path.isdir(file_path):\n",
    "        model_path = os.path.join(file_path, model_file)\n",
    "        m = torch.load(model_path)\n",
    "        w, b = unfold_parameters(m)\n",
    "        \n",
    "        simple_fitness_func_weights.append(w)\n",
    "        simple_fitness_func_bias.append(b)"
   ]
  },
  {
   "cell_type": "markdown",
   "id": "402bce65",
   "metadata": {},
   "source": [
    "# Distribution-Aware Fitness Function"
   ]
  },
  {
   "cell_type": "code",
   "execution_count": 14,
   "id": "985246c9",
   "metadata": {},
   "outputs": [],
   "source": [
    "experiment_dir = f\"{base}/distribution_aware_fitness_func\""
   ]
  },
  {
   "cell_type": "code",
   "execution_count": 15,
   "id": "f8a4491f",
   "metadata": {},
   "outputs": [],
   "source": [
    "daff_weights = []\n",
    "daff_bias = []\n",
    "\n",
    "for filename in os.listdir(experiment_dir):\n",
    "    file_path = os.path.join(experiment_dir, filename)\n",
    "\n",
    "    if os.path.isdir(file_path):\n",
    "        model_path = os.path.join(file_path, model_file)\n",
    "        m = torch.load(model_path)\n",
    "        w, b = unfold_parameters(m)\n",
    "        \n",
    "        daff_weights.append(w)\n",
    "        daff_bias.append(b)"
   ]
  },
  {
   "cell_type": "markdown",
   "id": "4609691e",
   "metadata": {},
   "source": [
    "# Magnitude-Aware Fitness Function"
   ]
  },
  {
   "cell_type": "code",
   "execution_count": 16,
   "id": "ab0e3bbc",
   "metadata": {},
   "outputs": [],
   "source": [
    "experiment_dir = f\"{base}/magnitude_aware_fitness_func\""
   ]
  },
  {
   "cell_type": "code",
   "execution_count": 17,
   "id": "073d4e59",
   "metadata": {},
   "outputs": [],
   "source": [
    "maff_weights = []\n",
    "maff_bias = []\n",
    "\n",
    "for filename in os.listdir(experiment_dir):\n",
    "    file_path = os.path.join(experiment_dir, filename)\n",
    "\n",
    "    if os.path.isdir(file_path):\n",
    "        model_path = os.path.join(file_path, model_file)\n",
    "        m = torch.load(model_path)\n",
    "        w, b = unfold_parameters(m)\n",
    "        \n",
    "        maff_weights.append(w)\n",
    "        maff_bias.append(b)"
   ]
  },
  {
   "cell_type": "markdown",
   "id": "f1d933f2",
   "metadata": {},
   "source": [
    "# Simple Fitness Function With Bias Boost"
   ]
  },
  {
   "cell_type": "code",
   "execution_count": 18,
   "id": "282c6498",
   "metadata": {},
   "outputs": [],
   "source": [
    "experiment_dir = f\"{base}/simple_fitness_with_bias_boost\""
   ]
  },
  {
   "cell_type": "code",
   "execution_count": 19,
   "id": "7d8ada4d",
   "metadata": {},
   "outputs": [],
   "source": [
    "sffbb_weights = []\n",
    "sffbb_bias = []\n",
    "\n",
    "for filename in os.listdir(experiment_dir):\n",
    "    file_path = os.path.join(experiment_dir, filename)\n",
    "\n",
    "    if os.path.isdir(file_path):\n",
    "        model_path = os.path.join(file_path, model_file)\n",
    "        m = torch.load(model_path)\n",
    "        w, b = unfold_parameters(m)\n",
    "        \n",
    "        sffbb_weights.append(w)\n",
    "        sffbb_bias.append(b)"
   ]
  },
  {
   "cell_type": "markdown",
   "id": "620512c0",
   "metadata": {},
   "source": [
    "# Initial Model Metrics"
   ]
  },
  {
   "cell_type": "code",
   "execution_count": 21,
   "id": "58de3d27",
   "metadata": {},
   "outputs": [],
   "source": [
    "init_w_mean, init_b_mean, init_w_std, init_b_std, init_w_kurt, init_b_kurt, init_w_kl_div, init_b_kl_div, init_w_emd, init_b_emd, init_w_ks_stat, init_b_ks_stat = evaluate_model(mlp)"
   ]
  },
  {
   "cell_type": "markdown",
   "id": "d03f7c63",
   "metadata": {},
   "source": [
    "# Evaluation"
   ]
  },
  {
   "cell_type": "code",
   "execution_count": 32,
   "id": "ecc44725",
   "metadata": {},
   "outputs": [],
   "source": [
    "result_file_path = f\"{base}/results.csv\""
   ]
  },
  {
   "cell_type": "code",
   "execution_count": 33,
   "id": "c5ad6d7d",
   "metadata": {},
   "outputs": [],
   "source": [
    "result_df = pd.read_csv(result_file_path)\n",
    "result_df.columns = result_df.columns.str.replace(' ', '')"
   ]
  },
  {
   "cell_type": "code",
   "execution_count": 34,
   "id": "640833d0",
   "metadata": {},
   "outputs": [
    {
     "name": "stdout",
     "output_type": "stream",
     "text": [
      "<class 'pandas.core.frame.DataFrame'>\n",
      "RangeIndex: 40 entries, 0 to 39\n",
      "Data columns (total 15 columns):\n",
      " #   Column             Non-Null Count  Dtype  \n",
      "---  ------             --------------  -----  \n",
      " 0   RunID              40 non-null     object \n",
      " 1   FitnessFunction    40 non-null     object \n",
      " 2   Success            40 non-null     bool   \n",
      " 3   KLWeight           40 non-null     float64\n",
      " 4   KLBias             40 non-null     float64\n",
      " 5   EMDWeight          40 non-null     float64\n",
      " 6   EMDBias            40 non-null     float64\n",
      " 7   KSStatisticWeight  40 non-null     float64\n",
      " 8   KSStatisticBias    40 non-null     float64\n",
      " 9   MeanWeight         40 non-null     float64\n",
      " 10  MeanBias           40 non-null     float64\n",
      " 11  StdWeight          40 non-null     float64\n",
      " 12  StdBias            40 non-null     float64\n",
      " 13  KurtosisWeight     40 non-null     float64\n",
      " 14  KurtosisBias       40 non-null     float64\n",
      "dtypes: bool(1), float64(12), object(2)\n",
      "memory usage: 4.5+ KB\n"
     ]
    }
   ],
   "source": [
    "result_df.info()"
   ]
  },
  {
   "cell_type": "code",
   "execution_count": 35,
   "id": "27a324b8",
   "metadata": {},
   "outputs": [],
   "source": [
    "grouped_df = result_df.groupby([\"FitnessFunction\"])"
   ]
  },
  {
   "cell_type": "code",
   "execution_count": 36,
   "id": "182cfb06",
   "metadata": {},
   "outputs": [],
   "source": [
    "success_rate = grouped_df.Success.sum() / grouped_df.size()"
   ]
  },
  {
   "cell_type": "code",
   "execution_count": 37,
   "id": "58e2eaa2",
   "metadata": {},
   "outputs": [
    {
     "data": {
      "text/plain": [
       "FitnessFunction\n",
       "distribution_aware_fitness_func    0.6\n",
       "magnitude_aware_fitness_func       0.0\n",
       "simple_fitness_func                0.6\n",
       "simple_fitness_with_bias_boost     0.6\n",
       "dtype: float64"
      ]
     },
     "execution_count": 37,
     "metadata": {},
     "output_type": "execute_result"
    }
   ],
   "source": [
    "success_rate"
   ]
  },
  {
   "cell_type": "code",
   "execution_count": 38,
   "id": "06a8a546",
   "metadata": {},
   "outputs": [],
   "source": [
    "means = result_df[result_df[\"Success\"] == True].groupby(\"FitnessFunction\", sort=False).mean(numeric_only=True)"
   ]
  },
  {
   "cell_type": "code",
   "execution_count": 40,
   "id": "306e97b7",
   "metadata": {},
   "outputs": [],
   "source": [
    "means = means.round(4).drop(columns=[\"Success\", \"KLWeight\", \"KLBias\"])"
   ]
  },
  {
   "cell_type": "code",
   "execution_count": 41,
   "id": "7a387527",
   "metadata": {},
   "outputs": [
    {
     "name": "stdout",
     "output_type": "stream",
     "text": [
      "\\begin{tabular}{lrrr}\n",
      "\\toprule\n",
      "FitnessFunction & simple_fitness_func & distribution_aware_fitness_func & simple_fitness_with_bias_boost \\\\\n",
      "\\midrule\n",
      "EMDWeight & 0.838800 & 0.751500 & 0.877400 \\\\\n",
      "EMDBias & 3.864900 & 3.841200 & 3.872000 \\\\\n",
      "KSStatisticWeight & 0.397800 & 0.389000 & 0.404100 \\\\\n",
      "KSStatisticBias & 0.857000 & 0.869300 & 0.846700 \\\\\n",
      "MeanWeight & 0.054500 & 0.055100 & 0.054500 \\\\\n",
      "MeanBias & -3.814500 & -3.812100 & -3.800100 \\\\\n",
      "StdWeight & 1.202100 & 1.091900 & 1.242400 \\\\\n",
      "StdBias & 3.553800 & 3.526600 & 3.577200 \\\\\n",
      "KurtosisWeight & 0.480200 & 0.483300 & 0.375700 \\\\\n",
      "KurtosisBias & -0.654000 & -0.653700 & -0.640400 \\\\\n",
      "\\bottomrule\n",
      "\\end{tabular}\n",
      "\n"
     ]
    }
   ],
   "source": [
    "print(means.T.to_latex())"
   ]
  },
  {
   "cell_type": "code",
   "execution_count": 42,
   "id": "cb77e24b",
   "metadata": {},
   "outputs": [],
   "source": [
    "stds = result_df[result_df[\"Success\"] == True].groupby(\"FitnessFunction\", sort=False).std(numeric_only=True)"
   ]
  },
  {
   "cell_type": "code",
   "execution_count": 43,
   "id": "6219a400",
   "metadata": {},
   "outputs": [],
   "source": [
    "stds = stds.round(4).drop(columns=[\"Success\", \"KLWeight\", \"KLBias\"])"
   ]
  },
  {
   "cell_type": "code",
   "execution_count": 44,
   "id": "a8d41a0e",
   "metadata": {},
   "outputs": [],
   "source": [
    "clean_table = pd.DataFrame()"
   ]
  },
  {
   "cell_type": "code",
   "execution_count": 45,
   "id": "94225066",
   "metadata": {},
   "outputs": [],
   "source": [
    "for metric in means.columns:\n",
    "    clean_table[metric] = means[metric].apply(lambda x: f\"{x:.3f}\") + \" ± \" + stds[metric].apply(lambda x: f\"{x:.3f}\")"
   ]
  },
  {
   "cell_type": "code",
   "execution_count": 46,
   "id": "b3924f78",
   "metadata": {},
   "outputs": [],
   "source": [
    "baseline_row = pd.DataFrame(data=[[init_w_emd, init_b_emd, init_w_ks_stat, init_b_ks_stat, init_w_mean.item(), init_b_mean.item(), init_w_std.item(), init_b_std.item(), init_w_kurt.item(), init_b_kurt.item()]], index=[\"Baseline\"], columns=means.columns).round(3)"
   ]
  },
  {
   "cell_type": "code",
   "execution_count": 48,
   "id": "59855b2a",
   "metadata": {},
   "outputs": [],
   "source": [
    "target_row = pd.DataFrame(data=[[None, None, None, None, target_weights_mean.item(), target_bias_mean.item(), target_weights_std.item(), target_bias_std.item(), target_weights_kurt, target_bias_kurt]], index=[\"GPT-2\"], columns=means.columns).round(3)"
   ]
  },
  {
   "cell_type": "code",
   "execution_count": 49,
   "id": "9f91717d",
   "metadata": {},
   "outputs": [],
   "source": [
    "clean_table = pd.concat([clean_table, baseline_row, target_row])"
   ]
  },
  {
   "cell_type": "code",
   "execution_count": 50,
   "id": "1a6ef44e",
   "metadata": {},
   "outputs": [],
   "source": [
    "clean_table.index = clean_table.index.str.replace('_fitness_func', '').str.replace('_', ' ').str.title()"
   ]
  },
  {
   "cell_type": "code",
   "execution_count": 51,
   "id": "12b56a81",
   "metadata": {},
   "outputs": [],
   "source": [
    "clean_table_1 = clean_table[[\"EMDWeight\", \"EMDBias\", \"KSStatisticWeight\", \"KSStatisticBias\"]].drop(index=\"Gpt-2\")\n",
    "clean_table_2 = clean_table[[\"MeanWeight\",\"MeanBias\",\"StdWeight\",\"StdBias\",\"KurtosisWeight\",\"KurtosisBias\"]]"
   ]
  },
  {
   "cell_type": "code",
   "execution_count": 52,
   "id": "394698d5",
   "metadata": {},
   "outputs": [
    {
     "name": "stdout",
     "output_type": "stream",
     "text": [
      "\\begin{tabular}{lllll}\n",
      "\\toprule\n",
      " & Simple & Distribution Aware & Simple Fitness With Bias Boost & Baseline \\\\\n",
      "\\midrule\n",
      "EMDWeight & 0.839 ± 0.034 & 0.751 ± 0.106 & 0.877 ± 0.050 & 0.123000 \\\\\n",
      "EMDBias & 3.865 ± 0.005 & 3.841 ± 0.030 & 3.872 ± 0.016 & 3.755000 \\\\\n",
      "KSStatisticWeight & 0.398 ± 0.010 & 0.389 ± 0.005 & 0.404 ± 0.008 & 0.500000 \\\\\n",
      "KSStatisticBias & 0.857 ± 0.012 & 0.869 ± 0.010 & 0.847 ± 0.015 & 0.969000 \\\\\n",
      "\\bottomrule\n",
      "\\end{tabular}\n",
      "\n"
     ]
    }
   ],
   "source": [
    "print(clean_table_1.T.to_latex())"
   ]
  },
  {
   "cell_type": "code",
   "execution_count": 53,
   "id": "0a90c260",
   "metadata": {},
   "outputs": [
    {
     "name": "stdout",
     "output_type": "stream",
     "text": [
      "\\begin{tabular}{llllll}\n",
      "\\toprule\n",
      " & Simple & Distribution Aware & Simple Fitness With Bias Boost & Baseline & Gpt-2 \\\\\n",
      "\\midrule\n",
      "MeanWeight & 0.054 ± 0.003 & 0.055 ± 0.002 & 0.054 ± 0.003 & 0.053000 & -0.001000 \\\\\n",
      "MeanBias & -3.814 ± 0.025 & -3.812 ± 0.020 & -3.800 ± 0.032 & -3.804000 & -0.067000 \\\\\n",
      "StdWeight & 1.202 ± 0.029 & 1.092 ± 0.152 & 1.242 ± 0.053 & 0.241000 & 0.128000 \\\\\n",
      "StdBias & 3.554 ± 0.030 & 3.527 ± 0.048 & 3.577 ± 0.050 & 3.371000 & 0.110000 \\\\\n",
      "KurtosisWeight & 0.480 ± 0.253 & 0.483 ± 0.214 & 0.376 ± 0.178 & 12.010000 & 37.568000 \\\\\n",
      "KurtosisBias & -0.654 ± 0.038 & -0.654 ± 0.085 & -0.640 ± 0.043 & -0.814000 & 15.353000 \\\\\n",
      "\\bottomrule\n",
      "\\end{tabular}\n",
      "\n"
     ]
    }
   ],
   "source": [
    "print(clean_table_2.T.to_latex())"
   ]
  },
  {
   "cell_type": "code",
   "execution_count": 62,
   "id": "2ba2cb5b",
   "metadata": {},
   "outputs": [
    {
     "name": "stderr",
     "output_type": "stream",
     "text": [
      "/tmp/ipykernel_166554/2899830460.py:1: FutureWarning: When grouping with a length-1 list-like, you will need to pass a length-1 tuple to get_group in a future version of pandas. Pass `(name,)` instead of `name` to silence this warning.\n",
      "  grouped_df.get_group(\"distribution_aware_fitness_func\")[grouped_df.get_group(\"distribution_aware_fitness_func\")[\"Success\"] == True]\n"
     ]
    },
    {
     "data": {
      "text/html": [
       "<div>\n",
       "<style scoped>\n",
       "    .dataframe tbody tr th:only-of-type {\n",
       "        vertical-align: middle;\n",
       "    }\n",
       "\n",
       "    .dataframe tbody tr th {\n",
       "        vertical-align: top;\n",
       "    }\n",
       "\n",
       "    .dataframe thead th {\n",
       "        text-align: right;\n",
       "    }\n",
       "</style>\n",
       "<table border=\"1\" class=\"dataframe\">\n",
       "  <thead>\n",
       "    <tr style=\"text-align: right;\">\n",
       "      <th></th>\n",
       "      <th>RunID</th>\n",
       "      <th>FitnessFunction</th>\n",
       "      <th>Success</th>\n",
       "      <th>KLWeight</th>\n",
       "      <th>KLBias</th>\n",
       "      <th>EMDWeight</th>\n",
       "      <th>EMDBias</th>\n",
       "      <th>KSStatisticWeight</th>\n",
       "      <th>KSStatisticBias</th>\n",
       "      <th>MeanWeight</th>\n",
       "      <th>MeanBias</th>\n",
       "      <th>StdWeight</th>\n",
       "      <th>StdBias</th>\n",
       "      <th>KurtosisWeight</th>\n",
       "      <th>KurtosisBias</th>\n",
       "    </tr>\n",
       "  </thead>\n",
       "  <tbody>\n",
       "    <tr>\n",
       "      <th>10</th>\n",
       "      <td>run_1</td>\n",
       "      <td>distribution_aware_fitness_func</td>\n",
       "      <td>True</td>\n",
       "      <td>inf</td>\n",
       "      <td>inf</td>\n",
       "      <td>0.770119</td>\n",
       "      <td>3.827448</td>\n",
       "      <td>0.380403</td>\n",
       "      <td>0.877206</td>\n",
       "      <td>0.056115</td>\n",
       "      <td>-3.794974</td>\n",
       "      <td>1.136038</td>\n",
       "      <td>3.573977</td>\n",
       "      <td>0.716150</td>\n",
       "      <td>-0.599590</td>\n",
       "    </tr>\n",
       "    <tr>\n",
       "      <th>11</th>\n",
       "      <td>run_2</td>\n",
       "      <td>distribution_aware_fitness_func</td>\n",
       "      <td>True</td>\n",
       "      <td>inf</td>\n",
       "      <td>inf</td>\n",
       "      <td>0.583381</td>\n",
       "      <td>3.786231</td>\n",
       "      <td>0.386313</td>\n",
       "      <td>0.878088</td>\n",
       "      <td>0.056624</td>\n",
       "      <td>-3.793270</td>\n",
       "      <td>0.848213</td>\n",
       "      <td>3.448623</td>\n",
       "      <td>0.202190</td>\n",
       "      <td>-0.733133</td>\n",
       "    </tr>\n",
       "    <tr>\n",
       "      <th>15</th>\n",
       "      <td>run_6</td>\n",
       "      <td>distribution_aware_fitness_func</td>\n",
       "      <td>True</td>\n",
       "      <td>inf</td>\n",
       "      <td>inf</td>\n",
       "      <td>0.864494</td>\n",
       "      <td>3.869036</td>\n",
       "      <td>0.396011</td>\n",
       "      <td>0.865812</td>\n",
       "      <td>0.056360</td>\n",
       "      <td>-3.819098</td>\n",
       "      <td>1.244046</td>\n",
       "      <td>3.566274</td>\n",
       "      <td>0.525101</td>\n",
       "      <td>-0.509974</td>\n",
       "    </tr>\n",
       "    <tr>\n",
       "      <th>17</th>\n",
       "      <td>run_8</td>\n",
       "      <td>distribution_aware_fitness_func</td>\n",
       "      <td>True</td>\n",
       "      <td>inf</td>\n",
       "      <td>inf</td>\n",
       "      <td>0.811037</td>\n",
       "      <td>3.853279</td>\n",
       "      <td>0.390863</td>\n",
       "      <td>0.869695</td>\n",
       "      <td>0.051846</td>\n",
       "      <td>-3.839236</td>\n",
       "      <td>1.171418</td>\n",
       "      <td>3.548178</td>\n",
       "      <td>0.488120</td>\n",
       "      <td>-0.658800</td>\n",
       "    </tr>\n",
       "    <tr>\n",
       "      <th>18</th>\n",
       "      <td>run_9</td>\n",
       "      <td>distribution_aware_fitness_func</td>\n",
       "      <td>True</td>\n",
       "      <td>inf</td>\n",
       "      <td>inf</td>\n",
       "      <td>0.812868</td>\n",
       "      <td>3.859894</td>\n",
       "      <td>0.392659</td>\n",
       "      <td>0.850535</td>\n",
       "      <td>0.055620</td>\n",
       "      <td>-3.795113</td>\n",
       "      <td>1.186069</td>\n",
       "      <td>3.529697</td>\n",
       "      <td>0.701137</td>\n",
       "      <td>-0.716848</td>\n",
       "    </tr>\n",
       "    <tr>\n",
       "      <th>19</th>\n",
       "      <td>run_10</td>\n",
       "      <td>distribution_aware_fitness_func</td>\n",
       "      <td>True</td>\n",
       "      <td>inf</td>\n",
       "      <td>inf</td>\n",
       "      <td>0.666840</td>\n",
       "      <td>3.851311</td>\n",
       "      <td>0.387638</td>\n",
       "      <td>0.874426</td>\n",
       "      <td>0.054224</td>\n",
       "      <td>-3.831131</td>\n",
       "      <td>0.965725</td>\n",
       "      <td>3.493008</td>\n",
       "      <td>0.267371</td>\n",
       "      <td>-0.703801</td>\n",
       "    </tr>\n",
       "  </tbody>\n",
       "</table>\n",
       "</div>"
      ],
      "text/plain": [
       "     RunID                  FitnessFunction  Success  KLWeight  KLBias  \\\n",
       "10   run_1  distribution_aware_fitness_func     True       inf     inf   \n",
       "11   run_2  distribution_aware_fitness_func     True       inf     inf   \n",
       "15   run_6  distribution_aware_fitness_func     True       inf     inf   \n",
       "17   run_8  distribution_aware_fitness_func     True       inf     inf   \n",
       "18   run_9  distribution_aware_fitness_func     True       inf     inf   \n",
       "19  run_10  distribution_aware_fitness_func     True       inf     inf   \n",
       "\n",
       "    EMDWeight   EMDBias  KSStatisticWeight  KSStatisticBias  MeanWeight  \\\n",
       "10   0.770119  3.827448           0.380403         0.877206    0.056115   \n",
       "11   0.583381  3.786231           0.386313         0.878088    0.056624   \n",
       "15   0.864494  3.869036           0.396011         0.865812    0.056360   \n",
       "17   0.811037  3.853279           0.390863         0.869695    0.051846   \n",
       "18   0.812868  3.859894           0.392659         0.850535    0.055620   \n",
       "19   0.666840  3.851311           0.387638         0.874426    0.054224   \n",
       "\n",
       "    MeanBias  StdWeight   StdBias  KurtosisWeight  KurtosisBias  \n",
       "10 -3.794974   1.136038  3.573977        0.716150     -0.599590  \n",
       "11 -3.793270   0.848213  3.448623        0.202190     -0.733133  \n",
       "15 -3.819098   1.244046  3.566274        0.525101     -0.509974  \n",
       "17 -3.839236   1.171418  3.548178        0.488120     -0.658800  \n",
       "18 -3.795113   1.186069  3.529697        0.701137     -0.716848  \n",
       "19 -3.831131   0.965725  3.493008        0.267371     -0.703801  "
      ]
     },
     "execution_count": 62,
     "metadata": {},
     "output_type": "execute_result"
    }
   ],
   "source": [
    "grouped_df.get_group(\"distribution_aware_fitness_func\")[grouped_df.get_group(\"distribution_aware_fitness_func\")[\"Success\"] == True]"
   ]
  },
  {
   "cell_type": "code",
   "execution_count": 111,
   "id": "e849f341",
   "metadata": {},
   "outputs": [],
   "source": [
    "def get_most_successful_run(experiment_runs: pd.DataFrame):\n",
    "    df = experiment_runs\n",
    "    df = df.drop(columns=[\"FitnessFunction\", \"Success\", \"KLWeight\", \"KLBias\"])\n",
    "    df[[\"MeanWeight\", \"MeanBias\", \"StdWeight\", \"StdBias\", \"KurtosisWeight\", \"KurtosisBias\"]] = (experiment_runs[[\"MeanWeight\", \"MeanBias\", \"StdWeight\", \"StdBias\", \"KurtosisWeight\", \"KurtosisBias\"]]-target_row[[\"MeanWeight\", \"MeanBias\", \"StdWeight\", \"StdBias\", \"KurtosisWeight\", \"KurtosisBias\"]].values).abs()\n",
    "    min_run_ids = df.loc[df.drop(columns=[\"RunID\"]).idxmin(), 'RunID']\n",
    "    min_run_ids.index = df.drop(columns=[\"RunID\"]).columns\n",
    "    print(min_run_ids.T.to_string())\n",
    "    best_run = min_run_ids.value_counts().idxmax()\n",
    "    return best_run"
   ]
  },
  {
   "cell_type": "code",
   "execution_count": 112,
   "id": "fe4e3390",
   "metadata": {},
   "outputs": [],
   "source": [
    "simple = grouped_df.get_group((\"simple_fitness_func\",))[grouped_df.get_group((\"simple_fitness_func\",))[\"Success\"] == True]\n",
    "dist_aware = grouped_df.get_group((\"distribution_aware_fitness_func\",))[grouped_df.get_group((\"distribution_aware_fitness_func\",))[\"Success\"] == True]\n",
    "simple_bias_boost = grouped_df.get_group((\"simple_fitness_with_bias_boost\",))[grouped_df.get_group((\"simple_fitness_with_bias_boost\",))[\"Success\"] == True]"
   ]
  },
  {
   "cell_type": "code",
   "execution_count": 124,
   "id": "40859726",
   "metadata": {},
   "outputs": [],
   "source": [
    "best_runs = {}"
   ]
  },
  {
   "cell_type": "code",
   "execution_count": 113,
   "id": "dbde2faa",
   "metadata": {},
   "outputs": [
    {
     "data": {
      "text/html": [
       "<div>\n",
       "<style scoped>\n",
       "    .dataframe tbody tr th:only-of-type {\n",
       "        vertical-align: middle;\n",
       "    }\n",
       "\n",
       "    .dataframe tbody tr th {\n",
       "        vertical-align: top;\n",
       "    }\n",
       "\n",
       "    .dataframe thead th {\n",
       "        text-align: right;\n",
       "    }\n",
       "</style>\n",
       "<table border=\"1\" class=\"dataframe\">\n",
       "  <thead>\n",
       "    <tr style=\"text-align: right;\">\n",
       "      <th></th>\n",
       "      <th>RunID</th>\n",
       "      <th>FitnessFunction</th>\n",
       "      <th>Success</th>\n",
       "      <th>KLWeight</th>\n",
       "      <th>KLBias</th>\n",
       "      <th>EMDWeight</th>\n",
       "      <th>EMDBias</th>\n",
       "      <th>KSStatisticWeight</th>\n",
       "      <th>KSStatisticBias</th>\n",
       "      <th>MeanWeight</th>\n",
       "      <th>MeanBias</th>\n",
       "      <th>StdWeight</th>\n",
       "      <th>StdBias</th>\n",
       "      <th>KurtosisWeight</th>\n",
       "      <th>KurtosisBias</th>\n",
       "    </tr>\n",
       "  </thead>\n",
       "  <tbody>\n",
       "    <tr>\n",
       "      <th>0</th>\n",
       "      <td>run_1</td>\n",
       "      <td>simple_fitness_func</td>\n",
       "      <td>True</td>\n",
       "      <td>inf</td>\n",
       "      <td>inf</td>\n",
       "      <td>0.788871</td>\n",
       "      <td>3.865043</td>\n",
       "      <td>0.381363</td>\n",
       "      <td>0.870919</td>\n",
       "      <td>0.057969</td>\n",
       "      <td>-3.841193</td>\n",
       "      <td>1.170709</td>\n",
       "      <td>3.557391</td>\n",
       "      <td>0.870529</td>\n",
       "      <td>-0.674866</td>\n",
       "    </tr>\n",
       "    <tr>\n",
       "      <th>1</th>\n",
       "      <td>run_2</td>\n",
       "      <td>simple_fitness_func</td>\n",
       "      <td>True</td>\n",
       "      <td>inf</td>\n",
       "      <td>inf</td>\n",
       "      <td>0.885820</td>\n",
       "      <td>3.860301</td>\n",
       "      <td>0.404500</td>\n",
       "      <td>0.840589</td>\n",
       "      <td>0.049868</td>\n",
       "      <td>-3.788088</td>\n",
       "      <td>1.247940</td>\n",
       "      <td>3.609567</td>\n",
       "      <td>0.330363</td>\n",
       "      <td>-0.605774</td>\n",
       "    </tr>\n",
       "    <tr>\n",
       "      <th>5</th>\n",
       "      <td>run_6</td>\n",
       "      <td>simple_fitness_func</td>\n",
       "      <td>True</td>\n",
       "      <td>inf</td>\n",
       "      <td>inf</td>\n",
       "      <td>0.837002</td>\n",
       "      <td>3.868418</td>\n",
       "      <td>0.403882</td>\n",
       "      <td>0.857848</td>\n",
       "      <td>0.056471</td>\n",
       "      <td>-3.824319</td>\n",
       "      <td>1.180960</td>\n",
       "      <td>3.558098</td>\n",
       "      <td>0.240640</td>\n",
       "      <td>-0.637657</td>\n",
       "    </tr>\n",
       "    <tr>\n",
       "      <th>7</th>\n",
       "      <td>run_8</td>\n",
       "      <td>simple_fitness_func</td>\n",
       "      <td>True</td>\n",
       "      <td>inf</td>\n",
       "      <td>inf</td>\n",
       "      <td>0.851413</td>\n",
       "      <td>3.873074</td>\n",
       "      <td>0.397045</td>\n",
       "      <td>0.869093</td>\n",
       "      <td>0.051760</td>\n",
       "      <td>-3.843873</td>\n",
       "      <td>1.219300</td>\n",
       "      <td>3.533848</td>\n",
       "      <td>0.455584</td>\n",
       "      <td>-0.644988</td>\n",
       "    </tr>\n",
       "    <tr>\n",
       "      <th>8</th>\n",
       "      <td>run_9</td>\n",
       "      <td>simple_fitness_func</td>\n",
       "      <td>True</td>\n",
       "      <td>inf</td>\n",
       "      <td>inf</td>\n",
       "      <td>0.812868</td>\n",
       "      <td>3.859894</td>\n",
       "      <td>0.392659</td>\n",
       "      <td>0.850535</td>\n",
       "      <td>0.055620</td>\n",
       "      <td>-3.795113</td>\n",
       "      <td>1.186069</td>\n",
       "      <td>3.529697</td>\n",
       "      <td>0.701137</td>\n",
       "      <td>-0.716848</td>\n",
       "    </tr>\n",
       "    <tr>\n",
       "      <th>9</th>\n",
       "      <td>run_10</td>\n",
       "      <td>simple_fitness_func</td>\n",
       "      <td>True</td>\n",
       "      <td>inf</td>\n",
       "      <td>inf</td>\n",
       "      <td>0.856821</td>\n",
       "      <td>3.862473</td>\n",
       "      <td>0.407619</td>\n",
       "      <td>0.852952</td>\n",
       "      <td>0.055260</td>\n",
       "      <td>-3.794555</td>\n",
       "      <td>1.207346</td>\n",
       "      <td>3.534030</td>\n",
       "      <td>0.282944</td>\n",
       "      <td>-0.643837</td>\n",
       "    </tr>\n",
       "  </tbody>\n",
       "</table>\n",
       "</div>"
      ],
      "text/plain": [
       "    RunID      FitnessFunction  Success  KLWeight  KLBias  EMDWeight  \\\n",
       "0   run_1  simple_fitness_func     True       inf     inf   0.788871   \n",
       "1   run_2  simple_fitness_func     True       inf     inf   0.885820   \n",
       "5   run_6  simple_fitness_func     True       inf     inf   0.837002   \n",
       "7   run_8  simple_fitness_func     True       inf     inf   0.851413   \n",
       "8   run_9  simple_fitness_func     True       inf     inf   0.812868   \n",
       "9  run_10  simple_fitness_func     True       inf     inf   0.856821   \n",
       "\n",
       "    EMDBias  KSStatisticWeight  KSStatisticBias  MeanWeight  MeanBias  \\\n",
       "0  3.865043           0.381363         0.870919    0.057969 -3.841193   \n",
       "1  3.860301           0.404500         0.840589    0.049868 -3.788088   \n",
       "5  3.868418           0.403882         0.857848    0.056471 -3.824319   \n",
       "7  3.873074           0.397045         0.869093    0.051760 -3.843873   \n",
       "8  3.859894           0.392659         0.850535    0.055620 -3.795113   \n",
       "9  3.862473           0.407619         0.852952    0.055260 -3.794555   \n",
       "\n",
       "   StdWeight   StdBias  KurtosisWeight  KurtosisBias  \n",
       "0   1.170709  3.557391        0.870529     -0.674866  \n",
       "1   1.247940  3.609567        0.330363     -0.605774  \n",
       "5   1.180960  3.558098        0.240640     -0.637657  \n",
       "7   1.219300  3.533848        0.455584     -0.644988  \n",
       "8   1.186069  3.529697        0.701137     -0.716848  \n",
       "9   1.207346  3.534030        0.282944     -0.643837  "
      ]
     },
     "execution_count": 113,
     "metadata": {},
     "output_type": "execute_result"
    }
   ],
   "source": [
    "simple"
   ]
  },
  {
   "cell_type": "code",
   "execution_count": 125,
   "id": "b445185d",
   "metadata": {},
   "outputs": [
    {
     "name": "stdout",
     "output_type": "stream",
     "text": [
      "EMDWeight            run_1\n",
      "EMDBias              run_9\n",
      "KSStatisticWeight    run_1\n",
      "KSStatisticBias      run_2\n",
      "MeanWeight           run_2\n",
      "MeanBias             run_2\n",
      "StdWeight            run_1\n",
      "StdBias              run_9\n",
      "KurtosisWeight       run_1\n",
      "KurtosisBias         run_2\n"
     ]
    }
   ],
   "source": [
    "best_runs[\"simple_fitness_func\"] = get_most_successful_run(simple)"
   ]
  },
  {
   "cell_type": "code",
   "execution_count": 116,
   "id": "bb6494d3",
   "metadata": {},
   "outputs": [
    {
     "data": {
      "text/html": [
       "<div>\n",
       "<style scoped>\n",
       "    .dataframe tbody tr th:only-of-type {\n",
       "        vertical-align: middle;\n",
       "    }\n",
       "\n",
       "    .dataframe tbody tr th {\n",
       "        vertical-align: top;\n",
       "    }\n",
       "\n",
       "    .dataframe thead th {\n",
       "        text-align: right;\n",
       "    }\n",
       "</style>\n",
       "<table border=\"1\" class=\"dataframe\">\n",
       "  <thead>\n",
       "    <tr style=\"text-align: right;\">\n",
       "      <th></th>\n",
       "      <th>RunID</th>\n",
       "      <th>FitnessFunction</th>\n",
       "      <th>Success</th>\n",
       "      <th>KLWeight</th>\n",
       "      <th>KLBias</th>\n",
       "      <th>EMDWeight</th>\n",
       "      <th>EMDBias</th>\n",
       "      <th>KSStatisticWeight</th>\n",
       "      <th>KSStatisticBias</th>\n",
       "      <th>MeanWeight</th>\n",
       "      <th>MeanBias</th>\n",
       "      <th>StdWeight</th>\n",
       "      <th>StdBias</th>\n",
       "      <th>KurtosisWeight</th>\n",
       "      <th>KurtosisBias</th>\n",
       "    </tr>\n",
       "  </thead>\n",
       "  <tbody>\n",
       "    <tr>\n",
       "      <th>10</th>\n",
       "      <td>run_1</td>\n",
       "      <td>distribution_aware_fitness_func</td>\n",
       "      <td>True</td>\n",
       "      <td>inf</td>\n",
       "      <td>inf</td>\n",
       "      <td>0.770119</td>\n",
       "      <td>3.827448</td>\n",
       "      <td>0.380403</td>\n",
       "      <td>0.877206</td>\n",
       "      <td>0.056115</td>\n",
       "      <td>-3.794974</td>\n",
       "      <td>1.136038</td>\n",
       "      <td>3.573977</td>\n",
       "      <td>0.716150</td>\n",
       "      <td>-0.599590</td>\n",
       "    </tr>\n",
       "    <tr>\n",
       "      <th>11</th>\n",
       "      <td>run_2</td>\n",
       "      <td>distribution_aware_fitness_func</td>\n",
       "      <td>True</td>\n",
       "      <td>inf</td>\n",
       "      <td>inf</td>\n",
       "      <td>0.583381</td>\n",
       "      <td>3.786231</td>\n",
       "      <td>0.386313</td>\n",
       "      <td>0.878088</td>\n",
       "      <td>0.056624</td>\n",
       "      <td>-3.793270</td>\n",
       "      <td>0.848213</td>\n",
       "      <td>3.448623</td>\n",
       "      <td>0.202190</td>\n",
       "      <td>-0.733133</td>\n",
       "    </tr>\n",
       "    <tr>\n",
       "      <th>15</th>\n",
       "      <td>run_6</td>\n",
       "      <td>distribution_aware_fitness_func</td>\n",
       "      <td>True</td>\n",
       "      <td>inf</td>\n",
       "      <td>inf</td>\n",
       "      <td>0.864494</td>\n",
       "      <td>3.869036</td>\n",
       "      <td>0.396011</td>\n",
       "      <td>0.865812</td>\n",
       "      <td>0.056360</td>\n",
       "      <td>-3.819098</td>\n",
       "      <td>1.244046</td>\n",
       "      <td>3.566274</td>\n",
       "      <td>0.525101</td>\n",
       "      <td>-0.509974</td>\n",
       "    </tr>\n",
       "    <tr>\n",
       "      <th>17</th>\n",
       "      <td>run_8</td>\n",
       "      <td>distribution_aware_fitness_func</td>\n",
       "      <td>True</td>\n",
       "      <td>inf</td>\n",
       "      <td>inf</td>\n",
       "      <td>0.811037</td>\n",
       "      <td>3.853279</td>\n",
       "      <td>0.390863</td>\n",
       "      <td>0.869695</td>\n",
       "      <td>0.051846</td>\n",
       "      <td>-3.839236</td>\n",
       "      <td>1.171418</td>\n",
       "      <td>3.548178</td>\n",
       "      <td>0.488120</td>\n",
       "      <td>-0.658800</td>\n",
       "    </tr>\n",
       "    <tr>\n",
       "      <th>18</th>\n",
       "      <td>run_9</td>\n",
       "      <td>distribution_aware_fitness_func</td>\n",
       "      <td>True</td>\n",
       "      <td>inf</td>\n",
       "      <td>inf</td>\n",
       "      <td>0.812868</td>\n",
       "      <td>3.859894</td>\n",
       "      <td>0.392659</td>\n",
       "      <td>0.850535</td>\n",
       "      <td>0.055620</td>\n",
       "      <td>-3.795113</td>\n",
       "      <td>1.186069</td>\n",
       "      <td>3.529697</td>\n",
       "      <td>0.701137</td>\n",
       "      <td>-0.716848</td>\n",
       "    </tr>\n",
       "    <tr>\n",
       "      <th>19</th>\n",
       "      <td>run_10</td>\n",
       "      <td>distribution_aware_fitness_func</td>\n",
       "      <td>True</td>\n",
       "      <td>inf</td>\n",
       "      <td>inf</td>\n",
       "      <td>0.666840</td>\n",
       "      <td>3.851311</td>\n",
       "      <td>0.387638</td>\n",
       "      <td>0.874426</td>\n",
       "      <td>0.054224</td>\n",
       "      <td>-3.831131</td>\n",
       "      <td>0.965725</td>\n",
       "      <td>3.493008</td>\n",
       "      <td>0.267371</td>\n",
       "      <td>-0.703801</td>\n",
       "    </tr>\n",
       "  </tbody>\n",
       "</table>\n",
       "</div>"
      ],
      "text/plain": [
       "     RunID                  FitnessFunction  Success  KLWeight  KLBias  \\\n",
       "10   run_1  distribution_aware_fitness_func     True       inf     inf   \n",
       "11   run_2  distribution_aware_fitness_func     True       inf     inf   \n",
       "15   run_6  distribution_aware_fitness_func     True       inf     inf   \n",
       "17   run_8  distribution_aware_fitness_func     True       inf     inf   \n",
       "18   run_9  distribution_aware_fitness_func     True       inf     inf   \n",
       "19  run_10  distribution_aware_fitness_func     True       inf     inf   \n",
       "\n",
       "    EMDWeight   EMDBias  KSStatisticWeight  KSStatisticBias  MeanWeight  \\\n",
       "10   0.770119  3.827448           0.380403         0.877206    0.056115   \n",
       "11   0.583381  3.786231           0.386313         0.878088    0.056624   \n",
       "15   0.864494  3.869036           0.396011         0.865812    0.056360   \n",
       "17   0.811037  3.853279           0.390863         0.869695    0.051846   \n",
       "18   0.812868  3.859894           0.392659         0.850535    0.055620   \n",
       "19   0.666840  3.851311           0.387638         0.874426    0.054224   \n",
       "\n",
       "    MeanBias  StdWeight   StdBias  KurtosisWeight  KurtosisBias  \n",
       "10 -3.794974   1.136038  3.573977        0.716150     -0.599590  \n",
       "11 -3.793270   0.848213  3.448623        0.202190     -0.733133  \n",
       "15 -3.819098   1.244046  3.566274        0.525101     -0.509974  \n",
       "17 -3.839236   1.171418  3.548178        0.488120     -0.658800  \n",
       "18 -3.795113   1.186069  3.529697        0.701137     -0.716848  \n",
       "19 -3.831131   0.965725  3.493008        0.267371     -0.703801  "
      ]
     },
     "execution_count": 116,
     "metadata": {},
     "output_type": "execute_result"
    }
   ],
   "source": [
    "dist_aware"
   ]
  },
  {
   "cell_type": "code",
   "execution_count": null,
   "id": "683e091c",
   "metadata": {},
   "outputs": [
    {
     "name": "stdout",
     "output_type": "stream",
     "text": [
      "EMDWeight            run_2\n",
      "EMDBias              run_2\n",
      "KSStatisticWeight    run_1\n",
      "KSStatisticBias      run_9\n",
      "MeanWeight           run_8\n",
      "MeanBias             run_2\n",
      "StdWeight            run_2\n",
      "StdBias              run_2\n",
      "KurtosisWeight       run_1\n",
      "KurtosisBias         run_6\n"
     ]
    }
   ],
   "source": [
    "best_runs[\"distribution_aware_fitness_func\"] = get_most_successful_run(dist_aware)"
   ]
  },
  {
   "cell_type": "code",
   "execution_count": 127,
   "id": "86f7425e",
   "metadata": {},
   "outputs": [
    {
     "name": "stdout",
     "output_type": "stream",
     "text": [
      "EMDWeight            run_9\n",
      "EMDBias              run_9\n",
      "KSStatisticWeight    run_9\n",
      "KSStatisticBias      run_1\n",
      "MeanWeight           run_2\n",
      "MeanBias             run_1\n",
      "StdWeight            run_9\n",
      "StdBias              run_9\n",
      "KurtosisWeight       run_9\n",
      "KurtosisBias         run_6\n"
     ]
    }
   ],
   "source": [
    "best_runs[\"simple_fitness_with_bias_boost\"] = get_most_successful_run(simple_bias_boost)"
   ]
  },
  {
   "cell_type": "markdown",
   "id": "7ffdce63",
   "metadata": {},
   "source": [
    "# Visualise best solutions for each fitness function"
   ]
  },
  {
   "cell_type": "code",
   "execution_count": 250,
   "id": "077b49f9",
   "metadata": {},
   "outputs": [],
   "source": [
    "def plot_distribution(\n",
    "    data,\n",
    "    target_data,\n",
    "    init_data,\n",
    "    mean,\n",
    "    std,\n",
    "    kurt,\n",
    "    target_mean,\n",
    "    init_mean,\n",
    "    target_std,\n",
    "    target_kurt,\n",
    "    ax,\n",
    "    param_type,\n",
    "    n_baseline_bins\n",
    "):\n",
    "    \n",
    "    ax.hist(target_data, bins=100, density=True, color='#4477AA', alpha=1.0, label=f\"GPT-2\")\n",
    "    \n",
    "    ax.hist(data, bins=100, density=True, alpha=0.6, color='#228833', label=f\"Optimised Backdoor\")\n",
    "    ax.hist(init_data, bins=n_baseline_bins, density=True, color='#EE6677', alpha=0.7, label=f\"Baseline Backdoor\")\n",
    "    \n",
    "    # ax.axvline(mean, color=\"r\", linestyle=\"dashed\", linewidth=2, label=f\"Optimised Backdoor Mean: {mean:.4f}\")\n",
    "    # ax.axvline(init_mean, color=\"r\", linestyle=\"dashdot\", linewidth=2, label=f\"Baseline Backdoor Mean: {init_mean:.4f}\")\n",
    "    # ax.axvline(target_mean, color=\"g\", linestyle=\"dotted\", linewidth=2, label=f\"GPT2 Mean: {target_mean:.4f}\")\n",
    "    \n",
    "    ax.set_xlabel(f\"{param_type} Value\", fontsize=\"large\")\n",
    "    #ax.set_ylabel(\"Density\", fontsize=12)\n",
    "    ax.tick_params(labelsize=\"medium\")\n",
    "    # stats_text = f\"{\"$\\\\qquad\\\\qquad$\":<12} Backdoor $\\\\quad$ GPT-2\\n\" f\"$\\\\mathbf{{Std.}}$$\\\\qquad$ {std:.4f}$\\\\quad$ {target_std:.4f}\\n\" f\"$\\\\mathbf{{Kurtosis}}$$\\\\qquad$ {kurt:.4f}$\\\\quad$ {target_kurt:.4f}\\n\"\n",
    "    # ax.text(\n",
    "    #     0.75,\n",
    "    #     -0.35,\n",
    "    #     stats_text,\n",
    "    #     transform=ax.transAxes,\n",
    "    #     fontsize=12,\n",
    "    #     verticalalignment=\"bottom\",\n",
    "    #     horizontalalignment=\"right\",\n",
    "    #     bbox=dict(boxstyle=\"round,pad=0.5\", fc=\"wheat\", alpha=0.5),\n",
    "    # )\n",
    "    ax.set_yscale(\"log\")\n",
    "    \n",
    "    ax.minorticks_off()\n",
    "    #ax.legend()"
   ]
  },
  {
   "cell_type": "code",
   "execution_count": 251,
   "id": "c900581f",
   "metadata": {},
   "outputs": [],
   "source": [
    "def load_run_model_params(fitness_func: str, run_id: str):\n",
    "    run_path = f\"{base}/{fitness_func}/{run_id}/{model_file}\"\n",
    "    m = torch.load(run_path)\n",
    "    w, b = unfold_parameters(m)\n",
    "\n",
    "    return w, b"
   ]
  },
  {
   "cell_type": "code",
   "execution_count": 253,
   "id": "b67e0466",
   "metadata": {},
   "outputs": [
    {
     "data": {
      "image/png": "[encoded data removed]",
      "text/plain": [
       "<Figure size 2000x700 with 6 Axes>"
      ]
     },
     "metadata": {},
     "output_type": "display_data"
    }
   ],
   "source": [
    "cols = [\"Simple\", \"Distribution-Aware\", \"Simple (Bias Boost)\"]\n",
    "rows = [\"Weight Density\", \"Bias Density\"]\n",
    "fig, axes = plt.subplots(2, 3, figsize=(20,7))\n",
    "\n",
    "pad = 5\n",
    "\n",
    "# Set column titles\n",
    "for ax, col in zip(axes[0], cols):\n",
    "    ax.annotate(col, xy=(0.5, 1), xytext=(0,pad), xycoords='axes fraction', textcoords='offset points',\n",
    "                size='x-large', ha='center', va='baseline')\n",
    "\n",
    "# Set row titles\n",
    "for ax, row in zip(axes[:,0], rows):\n",
    "    ax.annotate(row, xy=(0, 0.5), xytext=(-ax.yaxis.labelpad - pad, 0),\n",
    "                xycoords=ax.yaxis.label, textcoords='offset points',\n",
    "                size='large', ha='right', va='center', rotation='vertical')\n",
    "    \n",
    "for col, (fitness_func, run_id) in enumerate(best_runs.items()):\n",
    "    w,b = load_run_model_params(fitness_func, run_id)\n",
    "    plot_distribution(w, target_weights, init_weights, w.mean(), w.std(), stats.kurtosis(w), target_weights_mean, init_w_mean, target_weights_std, target_weights_kurt, axes[0][col], param_type=\"Weight\", n_baseline_bins=6)\n",
    "    plot_distribution(b, target_bias, init_bias, b.mean(), b.std(), stats.kurtosis(b), target_bias_mean, init_b_mean, target_bias_std, target_bias_kurt, axes[1][col], param_type=\"Bias\", n_baseline_bins=50)\n",
    "\n",
    "fig.tight_layout()\n",
    "fig.subplots_adjust(left=0.15, top=0.95)\n",
    "\n",
    "handles, labels = axes[0,0].get_legend_handles_labels()\n",
    "axes[1,1].legend(handles, labels, loc='upper center', ncol=3, bbox_to_anchor=(0.5, -0.2), fontsize=\"large\")\n",
    "fig.savefig(\"ga_distribution_comparison.pdf\", bbox_inches=\"tight\")"
   ]
  },
  {
   "cell_type": "code",
   "execution_count": 123,
   "id": "de6c438a",
   "metadata": {},
   "outputs": [
    {
     "name": "stdout",
     "output_type": "stream",
     "text": [
      "[[<Axes: > <Axes: > <Axes: >]\n",
      " [<Axes: > <Axes: > <Axes: >]]\n"
     ]
    }
   ],
   "source": [
    "print(axes)"
   ]
  },
  {
   "cell_type": "code",
   "execution_count": null,
   "id": "cfce00b7",
   "metadata": {},
   "outputs": [],
   "source": []
  }
 ],
 "metadata": {
  "kernelspec": {
   "display_name": "msc-project-env",
   "language": "python",
   "name": "python3"
  },
  "language_info": {
   "codemirror_mode": {
    "name": "ipython",
    "version": 3
   },
   "file_extension": ".py",
   "mimetype": "text/x-python",
   "name": "python",
   "nbconvert_exporter": "python",
   "pygments_lexer": "ipython3",
   "version": "3.12.11"
  }
 },
 "nbformat": 4,
 "nbformat_minor": 5
}
