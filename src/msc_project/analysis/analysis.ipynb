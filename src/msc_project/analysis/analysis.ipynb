{
 "cells": [
  {
   "cell_type": "code",
   "execution_count": 5,
   "id": "b3b9824c",
   "metadata": {},
   "outputs": [
    {
     "name": "stderr",
     "output_type": "stream",
     "text": [
      "/scratch/local/ssd/bella/msc-project/.venv/lib/python3.10/site-packages/tqdm/auto.py:21: TqdmWarning: IProgress not found. Please update jupyter and ipywidgets. See https://ipywidgets.readthedocs.io/en/stable/user_install.html\n",
      "  from .autonotebook import tqdm as notebook_tqdm\n"
     ]
    }
   ],
   "source": [
    "import matplotlib.pyplot as plt\n",
    "from scipy import stats\n",
    "import numpy as np\n",
    "from msc_project.analysis.analysis_mlp_layers import analyse_models"
   ]
  },
  {
   "cell_type": "code",
   "execution_count": 7,
   "id": "127f1d0e",
   "metadata": {},
   "outputs": [
    {
     "name": "stderr",
     "output_type": "stream",
     "text": [
      "Analyzing models:   0%|          | 0/16 [00:00<?, ?it/s]"
     ]
    },
    {
     "name": "stderr",
     "output_type": "stream",
     "text": [
      "Analyzing models:  50%|█████     | 8/16 [01:01<00:47,  5.89s/it]The fast path is not available because on of `(selective_state_update, causal_conv1d_fn, causal_conv1d_update)` is None. Falling back to the naive implementation. To install follow https://github.com/state-spaces/mamba/#installation and https://github.com/Dao-AILab/causal-conv1d\n",
      "Analyzing models: 100%|██████████| 16/16 [01:45<00:00,  6.59s/it]\n"
     ]
    }
   ],
   "source": [
    "f = open(\"model_names.txt\", \"r\")\n",
    "model_names = [line.strip() for line in f.readlines() if line.strip()]\n",
    "results = analyse_models(model_names, p=1.0)\n",
    "weights = results[\"weights\"]\n",
    "biases = results[\"biases\"]\n",
    "weight_stats = results[\"weight_stats\"]\n",
    "bias_stats = results[\"bias_stats\"]"
   ]
  },
  {
   "cell_type": "code",
   "execution_count": null,
   "id": "8e53f3e8",
   "metadata": {},
   "outputs": [],
   "source": []
  }
 ],
 "metadata": {
  "kernelspec": {
   "display_name": ".venv",
   "language": "python",
   "name": "python3"
  },
  "language_info": {
   "codemirror_mode": {
    "name": "ipython",
    "version": 3
   },
   "file_extension": ".py",
   "mimetype": "text/x-python",
   "name": "python",
   "nbconvert_exporter": "python",
   "pygments_lexer": "ipython3",
   "version": "3.10.10"
  }
 },
 "nbformat": 4,
 "nbformat_minor": 5
}
